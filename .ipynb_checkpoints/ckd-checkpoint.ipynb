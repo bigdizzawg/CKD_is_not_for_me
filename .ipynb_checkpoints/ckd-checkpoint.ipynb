{
  "cells": [
    {
      "cell_type": "code",
      "execution_count": 2,
      "id": "b2261f4e-32ce-4ece-bab1-91846140a612",
      "metadata": {
        "id": "b2261f4e-32ce-4ece-bab1-91846140a612"
      },
      "outputs": [],
      "source": [
        "#import libraries\n",
        "import pandas as pd\n",
        "from pathlib import Path\n",
        "import numpy as np\n",
        "import matplotlib.pyplot as plt\n",
        "import seaborn as sns"
      ]
    },
    {
      "cell_type": "code",
      "execution_count": 3,
      "id": "0498730f-1a2e-4be4-97a6-3a8eebf4af94",
      "metadata": {
        "id": "0498730f-1a2e-4be4-97a6-3a8eebf4af94",
        "outputId": "a2849f29-56a4-4e25-a9b5-6dedf6ba4cf2",
        "colab": {
          "base_uri": "https://localhost:8080/",
          "height": 321
        }
      },
      "outputs": [
        {
          "output_type": "error",
          "ename": "FileNotFoundError",
          "evalue": "[Errno 2] No such file or directory: './archive/kidney_disease.csv'",
          "traceback": [
            "\u001b[0;31m---------------------------------------------------------------------------\u001b[0m",
            "\u001b[0;31mFileNotFoundError\u001b[0m                         Traceback (most recent call last)",
            "\u001b[0;32m<ipython-input-3-c02d0df6d478>\u001b[0m in \u001b[0;36m<cell line: 2>\u001b[0;34m()\u001b[0m\n\u001b[1;32m      1\u001b[0m \u001b[0;31m#Import data--read the data--\u001b[0m\u001b[0;34m\u001b[0m\u001b[0;34m\u001b[0m\u001b[0m\n\u001b[0;32m----> 2\u001b[0;31m \u001b[0mckd_df\u001b[0m \u001b[0;34m=\u001b[0m \u001b[0mpd\u001b[0m\u001b[0;34m.\u001b[0m\u001b[0mread_csv\u001b[0m\u001b[0;34m(\u001b[0m\u001b[0;34m'./archive/kidney_disease.csv'\u001b[0m\u001b[0;34m)\u001b[0m\u001b[0;34m\u001b[0m\u001b[0;34m\u001b[0m\u001b[0m\n\u001b[0m\u001b[1;32m      3\u001b[0m \u001b[0mckd_df\u001b[0m\u001b[0;34m.\u001b[0m\u001b[0mhead\u001b[0m\u001b[0;34m(\u001b[0m\u001b[0;34m)\u001b[0m\u001b[0;34m\u001b[0m\u001b[0;34m\u001b[0m\u001b[0m\n",
            "\u001b[0;32m/usr/local/lib/python3.10/dist-packages/pandas/io/parsers/readers.py\u001b[0m in \u001b[0;36mread_csv\u001b[0;34m(filepath_or_buffer, sep, delimiter, header, names, index_col, usecols, dtype, engine, converters, true_values, false_values, skipinitialspace, skiprows, skipfooter, nrows, na_values, keep_default_na, na_filter, verbose, skip_blank_lines, parse_dates, infer_datetime_format, keep_date_col, date_parser, date_format, dayfirst, cache_dates, iterator, chunksize, compression, thousands, decimal, lineterminator, quotechar, quoting, doublequote, escapechar, comment, encoding, encoding_errors, dialect, on_bad_lines, delim_whitespace, low_memory, memory_map, float_precision, storage_options, dtype_backend)\u001b[0m\n\u001b[1;32m   1024\u001b[0m     \u001b[0mkwds\u001b[0m\u001b[0;34m.\u001b[0m\u001b[0mupdate\u001b[0m\u001b[0;34m(\u001b[0m\u001b[0mkwds_defaults\u001b[0m\u001b[0;34m)\u001b[0m\u001b[0;34m\u001b[0m\u001b[0;34m\u001b[0m\u001b[0m\n\u001b[1;32m   1025\u001b[0m \u001b[0;34m\u001b[0m\u001b[0m\n\u001b[0;32m-> 1026\u001b[0;31m     \u001b[0;32mreturn\u001b[0m \u001b[0m_read\u001b[0m\u001b[0;34m(\u001b[0m\u001b[0mfilepath_or_buffer\u001b[0m\u001b[0;34m,\u001b[0m \u001b[0mkwds\u001b[0m\u001b[0;34m)\u001b[0m\u001b[0;34m\u001b[0m\u001b[0;34m\u001b[0m\u001b[0m\n\u001b[0m\u001b[1;32m   1027\u001b[0m \u001b[0;34m\u001b[0m\u001b[0m\n\u001b[1;32m   1028\u001b[0m \u001b[0;34m\u001b[0m\u001b[0m\n",
            "\u001b[0;32m/usr/local/lib/python3.10/dist-packages/pandas/io/parsers/readers.py\u001b[0m in \u001b[0;36m_read\u001b[0;34m(filepath_or_buffer, kwds)\u001b[0m\n\u001b[1;32m    618\u001b[0m \u001b[0;34m\u001b[0m\u001b[0m\n\u001b[1;32m    619\u001b[0m     \u001b[0;31m# Create the parser.\u001b[0m\u001b[0;34m\u001b[0m\u001b[0;34m\u001b[0m\u001b[0m\n\u001b[0;32m--> 620\u001b[0;31m     \u001b[0mparser\u001b[0m \u001b[0;34m=\u001b[0m \u001b[0mTextFileReader\u001b[0m\u001b[0;34m(\u001b[0m\u001b[0mfilepath_or_buffer\u001b[0m\u001b[0;34m,\u001b[0m \u001b[0;34m**\u001b[0m\u001b[0mkwds\u001b[0m\u001b[0;34m)\u001b[0m\u001b[0;34m\u001b[0m\u001b[0;34m\u001b[0m\u001b[0m\n\u001b[0m\u001b[1;32m    621\u001b[0m \u001b[0;34m\u001b[0m\u001b[0m\n\u001b[1;32m    622\u001b[0m     \u001b[0;32mif\u001b[0m \u001b[0mchunksize\u001b[0m \u001b[0;32mor\u001b[0m \u001b[0miterator\u001b[0m\u001b[0;34m:\u001b[0m\u001b[0;34m\u001b[0m\u001b[0;34m\u001b[0m\u001b[0m\n",
            "\u001b[0;32m/usr/local/lib/python3.10/dist-packages/pandas/io/parsers/readers.py\u001b[0m in \u001b[0;36m__init__\u001b[0;34m(self, f, engine, **kwds)\u001b[0m\n\u001b[1;32m   1618\u001b[0m \u001b[0;34m\u001b[0m\u001b[0m\n\u001b[1;32m   1619\u001b[0m         \u001b[0mself\u001b[0m\u001b[0;34m.\u001b[0m\u001b[0mhandles\u001b[0m\u001b[0;34m:\u001b[0m \u001b[0mIOHandles\u001b[0m \u001b[0;34m|\u001b[0m \u001b[0;32mNone\u001b[0m \u001b[0;34m=\u001b[0m \u001b[0;32mNone\u001b[0m\u001b[0;34m\u001b[0m\u001b[0;34m\u001b[0m\u001b[0m\n\u001b[0;32m-> 1620\u001b[0;31m         \u001b[0mself\u001b[0m\u001b[0;34m.\u001b[0m\u001b[0m_engine\u001b[0m \u001b[0;34m=\u001b[0m \u001b[0mself\u001b[0m\u001b[0;34m.\u001b[0m\u001b[0m_make_engine\u001b[0m\u001b[0;34m(\u001b[0m\u001b[0mf\u001b[0m\u001b[0;34m,\u001b[0m \u001b[0mself\u001b[0m\u001b[0;34m.\u001b[0m\u001b[0mengine\u001b[0m\u001b[0;34m)\u001b[0m\u001b[0;34m\u001b[0m\u001b[0;34m\u001b[0m\u001b[0m\n\u001b[0m\u001b[1;32m   1621\u001b[0m \u001b[0;34m\u001b[0m\u001b[0m\n\u001b[1;32m   1622\u001b[0m     \u001b[0;32mdef\u001b[0m \u001b[0mclose\u001b[0m\u001b[0;34m(\u001b[0m\u001b[0mself\u001b[0m\u001b[0;34m)\u001b[0m \u001b[0;34m->\u001b[0m \u001b[0;32mNone\u001b[0m\u001b[0;34m:\u001b[0m\u001b[0;34m\u001b[0m\u001b[0;34m\u001b[0m\u001b[0m\n",
            "\u001b[0;32m/usr/local/lib/python3.10/dist-packages/pandas/io/parsers/readers.py\u001b[0m in \u001b[0;36m_make_engine\u001b[0;34m(self, f, engine)\u001b[0m\n\u001b[1;32m   1878\u001b[0m                 \u001b[0;32mif\u001b[0m \u001b[0;34m\"b\"\u001b[0m \u001b[0;32mnot\u001b[0m \u001b[0;32min\u001b[0m \u001b[0mmode\u001b[0m\u001b[0;34m:\u001b[0m\u001b[0;34m\u001b[0m\u001b[0;34m\u001b[0m\u001b[0m\n\u001b[1;32m   1879\u001b[0m                     \u001b[0mmode\u001b[0m \u001b[0;34m+=\u001b[0m \u001b[0;34m\"b\"\u001b[0m\u001b[0;34m\u001b[0m\u001b[0;34m\u001b[0m\u001b[0m\n\u001b[0;32m-> 1880\u001b[0;31m             self.handles = get_handle(\n\u001b[0m\u001b[1;32m   1881\u001b[0m                 \u001b[0mf\u001b[0m\u001b[0;34m,\u001b[0m\u001b[0;34m\u001b[0m\u001b[0;34m\u001b[0m\u001b[0m\n\u001b[1;32m   1882\u001b[0m                 \u001b[0mmode\u001b[0m\u001b[0;34m,\u001b[0m\u001b[0;34m\u001b[0m\u001b[0;34m\u001b[0m\u001b[0m\n",
            "\u001b[0;32m/usr/local/lib/python3.10/dist-packages/pandas/io/common.py\u001b[0m in \u001b[0;36mget_handle\u001b[0;34m(path_or_buf, mode, encoding, compression, memory_map, is_text, errors, storage_options)\u001b[0m\n\u001b[1;32m    871\u001b[0m         \u001b[0;32mif\u001b[0m \u001b[0mioargs\u001b[0m\u001b[0;34m.\u001b[0m\u001b[0mencoding\u001b[0m \u001b[0;32mand\u001b[0m \u001b[0;34m\"b\"\u001b[0m \u001b[0;32mnot\u001b[0m \u001b[0;32min\u001b[0m \u001b[0mioargs\u001b[0m\u001b[0;34m.\u001b[0m\u001b[0mmode\u001b[0m\u001b[0;34m:\u001b[0m\u001b[0;34m\u001b[0m\u001b[0;34m\u001b[0m\u001b[0m\n\u001b[1;32m    872\u001b[0m             \u001b[0;31m# Encoding\u001b[0m\u001b[0;34m\u001b[0m\u001b[0;34m\u001b[0m\u001b[0m\n\u001b[0;32m--> 873\u001b[0;31m             handle = open(\n\u001b[0m\u001b[1;32m    874\u001b[0m                 \u001b[0mhandle\u001b[0m\u001b[0;34m,\u001b[0m\u001b[0;34m\u001b[0m\u001b[0;34m\u001b[0m\u001b[0m\n\u001b[1;32m    875\u001b[0m                 \u001b[0mioargs\u001b[0m\u001b[0;34m.\u001b[0m\u001b[0mmode\u001b[0m\u001b[0;34m,\u001b[0m\u001b[0;34m\u001b[0m\u001b[0;34m\u001b[0m\u001b[0m\n",
            "\u001b[0;31mFileNotFoundError\u001b[0m: [Errno 2] No such file or directory: './archive/kidney_disease.csv'"
          ]
        }
      ],
      "source": [
        "#Import data--read the data--\n",
        "ckd_df = pd.read_csv('./archive/kidney_disease.csv')\n",
        "ckd_df.head()"
      ]
    },
    {
      "cell_type": "markdown",
      "id": "37e9800b-e41f-4e7b-b56f-7a35b5c9f389",
      "metadata": {
        "id": "37e9800b-e41f-4e7b-b56f-7a35b5c9f389"
      },
      "source": [
        "### Data preprocessing"
      ]
    },
    {
      "cell_type": "code",
      "execution_count": null,
      "id": "18798a68-f5de-47e2-beec-574f1272cc2e",
      "metadata": {
        "id": "18798a68-f5de-47e2-beec-574f1272cc2e",
        "outputId": "f69de1b8-15c5-48a9-b34b-1b4de412d4c9"
      },
      "outputs": [
        {
          "data": {
            "text/plain": [
              "(400, 26)"
            ]
          },
          "execution_count": 94,
          "metadata": {},
          "output_type": "execute_result"
        }
      ],
      "source": [
        "ckd_df.shape"
      ]
    },
    {
      "cell_type": "code",
      "execution_count": null,
      "id": "b972fc06-5bf8-4107-862d-52c460d8f3d2",
      "metadata": {
        "id": "b972fc06-5bf8-4107-862d-52c460d8f3d2",
        "outputId": "902750c8-8f1c-4209-994a-18d75214bfc6"
      },
      "outputs": [
        {
          "name": "stdout",
          "output_type": "stream",
          "text": [
            "<class 'pandas.core.frame.DataFrame'>\n",
            "RangeIndex: 400 entries, 0 to 399\n",
            "Data columns (total 26 columns):\n",
            " #   Column          Non-Null Count  Dtype  \n",
            "---  ------          --------------  -----  \n",
            " 0   id              400 non-null    int64  \n",
            " 1   age             391 non-null    float64\n",
            " 2   bp              388 non-null    float64\n",
            " 3   sg              353 non-null    float64\n",
            " 4   al              354 non-null    float64\n",
            " 5   su              351 non-null    float64\n",
            " 6   rbc             248 non-null    object \n",
            " 7   pc              335 non-null    object \n",
            " 8   pcc             396 non-null    object \n",
            " 9   ba              396 non-null    object \n",
            " 10  bgr             356 non-null    float64\n",
            " 11  bu              381 non-null    float64\n",
            " 12  sc              383 non-null    float64\n",
            " 13  sod             313 non-null    float64\n",
            " 14  pot             312 non-null    float64\n",
            " 15  hemo            348 non-null    float64\n",
            " 16  pcv             330 non-null    object \n",
            " 17  wc              295 non-null    object \n",
            " 18  rc              270 non-null    object \n",
            " 19  htn             398 non-null    object \n",
            " 20  dm              398 non-null    object \n",
            " 21  cad             398 non-null    object \n",
            " 22  appet           399 non-null    object \n",
            " 23  pe              399 non-null    object \n",
            " 24  ane             399 non-null    object \n",
            " 25  classification  400 non-null    object \n",
            "dtypes: float64(11), int64(1), object(14)\n",
            "memory usage: 81.4+ KB\n"
          ]
        }
      ],
      "source": [
        "#view summary\n",
        "ckd_df.info()"
      ]
    },
    {
      "cell_type": "code",
      "execution_count": null,
      "id": "d36d516e-98bc-4872-9650-226291cc0808",
      "metadata": {
        "id": "d36d516e-98bc-4872-9650-226291cc0808",
        "outputId": "69229e04-0c10-49d9-8de4-48d4c807d6d6"
      },
      "outputs": [
        {
          "data": {
            "text/plain": [
              "Index(['id', 'age', 'bp', 'sg', 'al', 'su', 'rbc', 'pc', 'pcc', 'ba', 'bgr',\n",
              "       'bu', 'sc', 'sod', 'pot', 'hemo', 'pcv', 'wc', 'rc', 'htn', 'dm', 'cad',\n",
              "       'appet', 'pe', 'ane', 'classification'],\n",
              "      dtype='object')"
            ]
          },
          "execution_count": 96,
          "metadata": {},
          "output_type": "execute_result"
        }
      ],
      "source": [
        "ckd_df.columns"
      ]
    },
    {
      "cell_type": "code",
      "execution_count": null,
      "id": "56a1eaac-6cdf-4c21-bd81-d2618212a0b4",
      "metadata": {
        "id": "56a1eaac-6cdf-4c21-bd81-d2618212a0b4",
        "outputId": "754f936d-1ba0-4ffc-c05d-492d8562c78b"
      },
      "outputs": [
        {
          "data": {
            "text/plain": [
              "id                  0\n",
              "age                 9\n",
              "bp                 12\n",
              "sg                 47\n",
              "al                 46\n",
              "su                 49\n",
              "rbc               152\n",
              "pc                 65\n",
              "pcc                 4\n",
              "ba                  4\n",
              "bgr                44\n",
              "bu                 19\n",
              "sc                 17\n",
              "sod                87\n",
              "pot                88\n",
              "hemo               52\n",
              "pcv                70\n",
              "wc                105\n",
              "rc                130\n",
              "htn                 2\n",
              "dm                  2\n",
              "cad                 2\n",
              "appet               1\n",
              "pe                  1\n",
              "ane                 1\n",
              "classification      0\n",
              "dtype: int64"
            ]
          },
          "execution_count": 97,
          "metadata": {},
          "output_type": "execute_result"
        }
      ],
      "source": [
        "#check for null values\n",
        "ckd_df.isna().sum()"
      ]
    },
    {
      "cell_type": "code",
      "execution_count": null,
      "id": "ff993b5e-b0ed-4a6a-b658-f31209240be7",
      "metadata": {
        "id": "ff993b5e-b0ed-4a6a-b658-f31209240be7"
      },
      "outputs": [],
      "source": [
        "# Fill NaN values with the mean of the age column\n",
        "ckd_df['age'] = ckd_df['age'].fillna(ckd_df['age'].mean())"
      ]
    },
    {
      "cell_type": "code",
      "execution_count": null,
      "id": "629169b2-e98d-4e54-b2ae-db7f33e71792",
      "metadata": {
        "id": "629169b2-e98d-4e54-b2ae-db7f33e71792"
      },
      "outputs": [],
      "source": [
        "# Convert data types\n",
        "ckd_df['age'] = ckd_df['age'].astype(int)"
      ]
    },
    {
      "cell_type": "code",
      "execution_count": null,
      "id": "b68e3314-67da-4ead-b46a-663c89c51c2e",
      "metadata": {
        "id": "b68e3314-67da-4ead-b46a-663c89c51c2e",
        "outputId": "b92df28c-2a4e-4036-ecaa-f183e4f1b965"
      },
      "outputs": [
        {
          "data": {
            "text/plain": [
              "dtype('int64')"
            ]
          },
          "execution_count": 100,
          "metadata": {},
          "output_type": "execute_result"
        }
      ],
      "source": [
        "# check datatype\n",
        "ckd_df['age'].dtype"
      ]
    },
    {
      "cell_type": "code",
      "execution_count": null,
      "id": "1529213b-8910-482b-b652-3a15d429afff",
      "metadata": {
        "id": "1529213b-8910-482b-b652-3a15d429afff",
        "outputId": "a03c4744-0434-4c1f-9457-71d726501312"
      },
      "outputs": [
        {
          "data": {
            "text/plain": [
              "0"
            ]
          },
          "execution_count": 101,
          "metadata": {},
          "output_type": "execute_result"
        }
      ],
      "source": [
        "#check nul\n",
        "ckd_df['age'].isna().sum()"
      ]
    },
    {
      "cell_type": "code",
      "execution_count": null,
      "id": "1fc20fbd-2b8a-44a8-942a-551bff609652",
      "metadata": {
        "id": "1fc20fbd-2b8a-44a8-942a-551bff609652"
      },
      "outputs": [],
      "source": [
        "ckd_df['bp'] = ckd_df['bp'].fillna(ckd_df['bp'].mean())"
      ]
    },
    {
      "cell_type": "code",
      "execution_count": null,
      "id": "9f5f0427-84de-4f87-be0e-2c417ffe4731",
      "metadata": {
        "id": "9f5f0427-84de-4f87-be0e-2c417ffe4731"
      },
      "outputs": [],
      "source": [
        "ckd_df['bp'] = ckd_df['bp'].astype(int)"
      ]
    },
    {
      "cell_type": "code",
      "execution_count": null,
      "id": "8661c8f8-0cde-4e96-8d6c-a00814aba1c7",
      "metadata": {
        "id": "8661c8f8-0cde-4e96-8d6c-a00814aba1c7",
        "outputId": "4224ed6b-40b0-4da4-aaa0-246ca80625cc"
      },
      "outputs": [
        {
          "data": {
            "text/plain": [
              "0"
            ]
          },
          "execution_count": 104,
          "metadata": {},
          "output_type": "execute_result"
        }
      ],
      "source": [
        "ckd_df['bp'].isnull().sum()"
      ]
    },
    {
      "cell_type": "code",
      "execution_count": null,
      "id": "5915b961-8206-4978-a5f8-26fc769b881d",
      "metadata": {
        "id": "5915b961-8206-4978-a5f8-26fc769b881d",
        "outputId": "5508f073-e262-45ee-e5d1-16ec20150ca8"
      },
      "outputs": [
        {
          "data": {
            "text/plain": [
              "array([1.02 , 1.01 , 1.005, 1.015,   nan, 1.025])"
            ]
          },
          "execution_count": 105,
          "metadata": {},
          "output_type": "execute_result"
        }
      ],
      "source": [
        "#---sg\n",
        "ckd_df['sg'].unique()"
      ]
    },
    {
      "cell_type": "code",
      "execution_count": null,
      "id": "702c9c81-999c-4ec3-a61a-f8a2d0e23bc4",
      "metadata": {
        "id": "702c9c81-999c-4ec3-a61a-f8a2d0e23bc4"
      },
      "outputs": [],
      "source": [
        "ckd_df['sg'] = ckd_df['sg'].fillna(ckd_df['sg'].mean())"
      ]
    },
    {
      "cell_type": "code",
      "execution_count": null,
      "id": "8dfeed5f-de7c-4343-9655-cd4ac3c27266",
      "metadata": {
        "id": "8dfeed5f-de7c-4343-9655-cd4ac3c27266"
      },
      "outputs": [],
      "source": [
        "ckd_df['sg'] = ckd_df['sg']"
      ]
    },
    {
      "cell_type": "code",
      "execution_count": null,
      "id": "84bd865e-2f71-4b56-b830-89c0e68e2215",
      "metadata": {
        "id": "84bd865e-2f71-4b56-b830-89c0e68e2215",
        "outputId": "fa857e4c-2aa6-4d93-a1e4-2f3171cf0681"
      },
      "outputs": [
        {
          "data": {
            "text/plain": [
              "0     1.020000\n",
              "1     1.020000\n",
              "2     1.010000\n",
              "3     1.005000\n",
              "4     1.010000\n",
              "5     1.015000\n",
              "6     1.010000\n",
              "7     1.015000\n",
              "8     1.015000\n",
              "9     1.020000\n",
              "10    1.010000\n",
              "11    1.010000\n",
              "12    1.015000\n",
              "13    1.017408\n",
              "14    1.010000\n",
              "15    1.015000\n",
              "16    1.015000\n",
              "17    1.017408\n",
              "18    1.025000\n",
              "19    1.015000\n",
              "Name: sg, dtype: float64"
            ]
          },
          "execution_count": 108,
          "metadata": {},
          "output_type": "execute_result"
        }
      ],
      "source": [
        "ckd_df['sg'].head(20)"
      ]
    },
    {
      "cell_type": "code",
      "execution_count": null,
      "id": "068004b4-db5b-4396-a100-694cb7f37bb2",
      "metadata": {
        "id": "068004b4-db5b-4396-a100-694cb7f37bb2",
        "outputId": "2d5cd3b1-5448-4082-c007-b34a4670ae57"
      },
      "outputs": [
        {
          "data": {
            "text/plain": [
              "id                  0\n",
              "age                 0\n",
              "bp                  0\n",
              "sg                  0\n",
              "al                 46\n",
              "su                 49\n",
              "rbc               152\n",
              "pc                 65\n",
              "pcc                 4\n",
              "ba                  4\n",
              "bgr                44\n",
              "bu                 19\n",
              "sc                 17\n",
              "sod                87\n",
              "pot                88\n",
              "hemo               52\n",
              "pcv                70\n",
              "wc                105\n",
              "rc                130\n",
              "htn                 2\n",
              "dm                  2\n",
              "cad                 2\n",
              "appet               1\n",
              "pe                  1\n",
              "ane                 1\n",
              "classification      0\n",
              "dtype: int64"
            ]
          },
          "execution_count": 109,
          "metadata": {},
          "output_type": "execute_result"
        }
      ],
      "source": [
        "ckd_df.isna().sum()"
      ]
    },
    {
      "cell_type": "code",
      "execution_count": null,
      "id": "2825a1f3-6dee-4b62-9ecf-f725ff03c71a",
      "metadata": {
        "id": "2825a1f3-6dee-4b62-9ecf-f725ff03c71a",
        "outputId": "12e26aab-72c6-4093-b18e-f364a7ecedbc"
      },
      "outputs": [
        {
          "name": "stdout",
          "output_type": "stream",
          "text": [
            "<class 'pandas.core.frame.DataFrame'>\n",
            "RangeIndex: 400 entries, 0 to 399\n",
            "Data columns (total 26 columns):\n",
            " #   Column          Non-Null Count  Dtype  \n",
            "---  ------          --------------  -----  \n",
            " 0   id              400 non-null    int64  \n",
            " 1   age             400 non-null    int64  \n",
            " 2   bp              400 non-null    int64  \n",
            " 3   sg              400 non-null    float64\n",
            " 4   al              354 non-null    float64\n",
            " 5   su              351 non-null    float64\n",
            " 6   rbc             248 non-null    object \n",
            " 7   pc              335 non-null    object \n",
            " 8   pcc             396 non-null    object \n",
            " 9   ba              396 non-null    object \n",
            " 10  bgr             356 non-null    float64\n",
            " 11  bu              381 non-null    float64\n",
            " 12  sc              383 non-null    float64\n",
            " 13  sod             313 non-null    float64\n",
            " 14  pot             312 non-null    float64\n",
            " 15  hemo            348 non-null    float64\n",
            " 16  pcv             330 non-null    object \n",
            " 17  wc              295 non-null    object \n",
            " 18  rc              270 non-null    object \n",
            " 19  htn             398 non-null    object \n",
            " 20  dm              398 non-null    object \n",
            " 21  cad             398 non-null    object \n",
            " 22  appet           399 non-null    object \n",
            " 23  pe              399 non-null    object \n",
            " 24  ane             399 non-null    object \n",
            " 25  classification  400 non-null    object \n",
            "dtypes: float64(9), int64(3), object(14)\n",
            "memory usage: 81.4+ KB\n"
          ]
        }
      ],
      "source": [
        "ckd_df.info()"
      ]
    },
    {
      "cell_type": "code",
      "execution_count": null,
      "id": "d5db4c81-a28f-4c3c-aea0-c0a6153b4b25",
      "metadata": {
        "id": "d5db4c81-a28f-4c3c-aea0-c0a6153b4b25",
        "outputId": "d2ee2145-957b-4fbb-c091-7681726508e7"
      },
      "outputs": [
        {
          "data": {
            "text/plain": [
              "array([ 1.,  4.,  2.,  3.,  0., nan,  5.])"
            ]
          },
          "execution_count": 111,
          "metadata": {},
          "output_type": "execute_result"
        }
      ],
      "source": [
        "#-------al\n",
        "ckd_df['al'].unique()"
      ]
    },
    {
      "cell_type": "code",
      "execution_count": null,
      "id": "386477d7-b989-4f50-8615-ec133da693cd",
      "metadata": {
        "id": "386477d7-b989-4f50-8615-ec133da693cd"
      },
      "outputs": [],
      "source": [
        "ckd_df['al'] = ckd_df['al'].fillna(ckd_df['al'].mean())"
      ]
    },
    {
      "cell_type": "code",
      "execution_count": null,
      "id": "238a0fc7-d888-4146-b28e-de9ece518008",
      "metadata": {
        "id": "238a0fc7-d888-4146-b28e-de9ece518008"
      },
      "outputs": [],
      "source": [
        "ckd_df['al'] = ckd_df['al']"
      ]
    },
    {
      "cell_type": "code",
      "execution_count": null,
      "id": "f51a7831-274f-4247-a469-d708b3cf1069",
      "metadata": {
        "id": "f51a7831-274f-4247-a469-d708b3cf1069",
        "outputId": "7eb7041d-7809-4b87-f263-2135c525770a"
      },
      "outputs": [
        {
          "data": {
            "text/plain": [
              "0     1.000000\n",
              "1     4.000000\n",
              "2     2.000000\n",
              "3     4.000000\n",
              "4     2.000000\n",
              "5     3.000000\n",
              "6     0.000000\n",
              "7     2.000000\n",
              "8     3.000000\n",
              "9     2.000000\n",
              "10    2.000000\n",
              "11    3.000000\n",
              "12    3.000000\n",
              "13    1.016949\n",
              "14    3.000000\n",
              "15    3.000000\n",
              "16    2.000000\n",
              "17    1.016949\n",
              "18    0.000000\n",
              "19    1.000000\n",
              "Name: al, dtype: float64"
            ]
          },
          "execution_count": 114,
          "metadata": {},
          "output_type": "execute_result"
        }
      ],
      "source": [
        "ckd_df['al'].head(20)"
      ]
    },
    {
      "cell_type": "code",
      "execution_count": null,
      "id": "8f77d908-95ec-4662-9424-704fc5b61f55",
      "metadata": {
        "id": "8f77d908-95ec-4662-9424-704fc5b61f55",
        "outputId": "c1d1d3e6-808d-4547-9a5f-ac65f78a0652"
      },
      "outputs": [
        {
          "data": {
            "text/plain": [
              "id                  0\n",
              "age                 0\n",
              "bp                  0\n",
              "sg                  0\n",
              "al                  0\n",
              "su                 49\n",
              "rbc               152\n",
              "pc                 65\n",
              "pcc                 4\n",
              "ba                  4\n",
              "bgr                44\n",
              "bu                 19\n",
              "sc                 17\n",
              "sod                87\n",
              "pot                88\n",
              "hemo               52\n",
              "pcv                70\n",
              "wc                105\n",
              "rc                130\n",
              "htn                 2\n",
              "dm                  2\n",
              "cad                 2\n",
              "appet               1\n",
              "pe                  1\n",
              "ane                 1\n",
              "classification      0\n",
              "dtype: int64"
            ]
          },
          "execution_count": 115,
          "metadata": {},
          "output_type": "execute_result"
        }
      ],
      "source": [
        "ckd_df.isna().sum()"
      ]
    },
    {
      "cell_type": "code",
      "execution_count": null,
      "id": "b8aead93-437d-4ca4-92bc-7d96a9f3be4f",
      "metadata": {
        "id": "b8aead93-437d-4ca4-92bc-7d96a9f3be4f",
        "outputId": "8b44b120-4a47-4bdc-aa43-f2f074581d98"
      },
      "outputs": [
        {
          "name": "stdout",
          "output_type": "stream",
          "text": [
            "<class 'pandas.core.frame.DataFrame'>\n",
            "RangeIndex: 400 entries, 0 to 399\n",
            "Data columns (total 26 columns):\n",
            " #   Column          Non-Null Count  Dtype  \n",
            "---  ------          --------------  -----  \n",
            " 0   id              400 non-null    int64  \n",
            " 1   age             400 non-null    int64  \n",
            " 2   bp              400 non-null    int64  \n",
            " 3   sg              400 non-null    float64\n",
            " 4   al              400 non-null    float64\n",
            " 5   su              351 non-null    float64\n",
            " 6   rbc             248 non-null    object \n",
            " 7   pc              335 non-null    object \n",
            " 8   pcc             396 non-null    object \n",
            " 9   ba              396 non-null    object \n",
            " 10  bgr             356 non-null    float64\n",
            " 11  bu              381 non-null    float64\n",
            " 12  sc              383 non-null    float64\n",
            " 13  sod             313 non-null    float64\n",
            " 14  pot             312 non-null    float64\n",
            " 15  hemo            348 non-null    float64\n",
            " 16  pcv             330 non-null    object \n",
            " 17  wc              295 non-null    object \n",
            " 18  rc              270 non-null    object \n",
            " 19  htn             398 non-null    object \n",
            " 20  dm              398 non-null    object \n",
            " 21  cad             398 non-null    object \n",
            " 22  appet           399 non-null    object \n",
            " 23  pe              399 non-null    object \n",
            " 24  ane             399 non-null    object \n",
            " 25  classification  400 non-null    object \n",
            "dtypes: float64(9), int64(3), object(14)\n",
            "memory usage: 81.4+ KB\n"
          ]
        }
      ],
      "source": [
        "ckd_df.info()"
      ]
    },
    {
      "cell_type": "code",
      "execution_count": null,
      "id": "b016fdc8-3990-4baf-8076-1d04071e0a50",
      "metadata": {
        "id": "b016fdc8-3990-4baf-8076-1d04071e0a50",
        "outputId": "d410cb6a-bdf0-425b-c1a1-7bec2c56b9ef"
      },
      "outputs": [
        {
          "data": {
            "text/plain": [
              "array([ 0.,  3.,  4.,  1., nan,  2.,  5.])"
            ]
          },
          "execution_count": 117,
          "metadata": {},
          "output_type": "execute_result"
        }
      ],
      "source": [
        "#--------su\n",
        "ckd_df['su'].unique()"
      ]
    },
    {
      "cell_type": "code",
      "execution_count": null,
      "id": "758ea769-d5d5-4d13-a71b-36c6a06a3c3e",
      "metadata": {
        "id": "758ea769-d5d5-4d13-a71b-36c6a06a3c3e"
      },
      "outputs": [],
      "source": [
        "ckd_df['su'] = ckd_df['su'].fillna(ckd_df['su'].mean())"
      ]
    },
    {
      "cell_type": "code",
      "execution_count": null,
      "id": "6750632b-412b-4f4b-8e06-3f9d44a80d25",
      "metadata": {
        "id": "6750632b-412b-4f4b-8e06-3f9d44a80d25"
      },
      "outputs": [],
      "source": [
        "ckd_df['su'] = ckd_df['su']"
      ]
    },
    {
      "cell_type": "code",
      "execution_count": null,
      "id": "de42093d-51fa-46d7-9849-4b6a2ccc735f",
      "metadata": {
        "id": "de42093d-51fa-46d7-9849-4b6a2ccc735f",
        "outputId": "0880dddd-6430-412c-fc59-4100e4da1760"
      },
      "outputs": [
        {
          "data": {
            "text/plain": [
              "0     0.000000\n",
              "1     0.000000\n",
              "2     3.000000\n",
              "3     0.000000\n",
              "4     0.000000\n",
              "5     0.000000\n",
              "6     0.000000\n",
              "7     4.000000\n",
              "8     0.000000\n",
              "9     0.000000\n",
              "10    4.000000\n",
              "11    0.000000\n",
              "12    1.000000\n",
              "13    0.450142\n",
              "14    2.000000\n",
              "15    0.000000\n",
              "16    0.000000\n",
              "17    0.450142\n",
              "18    3.000000\n",
              "19    0.000000\n",
              "Name: su, dtype: float64"
            ]
          },
          "execution_count": 120,
          "metadata": {},
          "output_type": "execute_result"
        }
      ],
      "source": [
        "ckd_df['su'].head(20)"
      ]
    },
    {
      "cell_type": "code",
      "execution_count": null,
      "id": "67a08767-3f8a-4215-8c5a-68c2996a94be",
      "metadata": {
        "id": "67a08767-3f8a-4215-8c5a-68c2996a94be",
        "outputId": "44f4b843-9859-4a71-a72f-961653ef8f31"
      },
      "outputs": [
        {
          "data": {
            "text/plain": [
              "id                  0\n",
              "age                 0\n",
              "bp                  0\n",
              "sg                  0\n",
              "al                  0\n",
              "su                  0\n",
              "rbc               152\n",
              "pc                 65\n",
              "pcc                 4\n",
              "ba                  4\n",
              "bgr                44\n",
              "bu                 19\n",
              "sc                 17\n",
              "sod                87\n",
              "pot                88\n",
              "hemo               52\n",
              "pcv                70\n",
              "wc                105\n",
              "rc                130\n",
              "htn                 2\n",
              "dm                  2\n",
              "cad                 2\n",
              "appet               1\n",
              "pe                  1\n",
              "ane                 1\n",
              "classification      0\n",
              "dtype: int64"
            ]
          },
          "execution_count": 121,
          "metadata": {},
          "output_type": "execute_result"
        }
      ],
      "source": [
        "ckd_df.isna().sum()"
      ]
    },
    {
      "cell_type": "code",
      "execution_count": null,
      "id": "f1adcdc7-b407-4dc8-aca5-c7fbc5b84a80",
      "metadata": {
        "id": "f1adcdc7-b407-4dc8-aca5-c7fbc5b84a80",
        "outputId": "b07e6b19-d3fe-4467-e7b4-cf2976607938"
      },
      "outputs": [
        {
          "name": "stdout",
          "output_type": "stream",
          "text": [
            "<class 'pandas.core.frame.DataFrame'>\n",
            "RangeIndex: 400 entries, 0 to 399\n",
            "Data columns (total 26 columns):\n",
            " #   Column          Non-Null Count  Dtype  \n",
            "---  ------          --------------  -----  \n",
            " 0   id              400 non-null    int64  \n",
            " 1   age             400 non-null    int64  \n",
            " 2   bp              400 non-null    int64  \n",
            " 3   sg              400 non-null    float64\n",
            " 4   al              400 non-null    float64\n",
            " 5   su              400 non-null    float64\n",
            " 6   rbc             248 non-null    object \n",
            " 7   pc              335 non-null    object \n",
            " 8   pcc             396 non-null    object \n",
            " 9   ba              396 non-null    object \n",
            " 10  bgr             356 non-null    float64\n",
            " 11  bu              381 non-null    float64\n",
            " 12  sc              383 non-null    float64\n",
            " 13  sod             313 non-null    float64\n",
            " 14  pot             312 non-null    float64\n",
            " 15  hemo            348 non-null    float64\n",
            " 16  pcv             330 non-null    object \n",
            " 17  wc              295 non-null    object \n",
            " 18  rc              270 non-null    object \n",
            " 19  htn             398 non-null    object \n",
            " 20  dm              398 non-null    object \n",
            " 21  cad             398 non-null    object \n",
            " 22  appet           399 non-null    object \n",
            " 23  pe              399 non-null    object \n",
            " 24  ane             399 non-null    object \n",
            " 25  classification  400 non-null    object \n",
            "dtypes: float64(9), int64(3), object(14)\n",
            "memory usage: 81.4+ KB\n"
          ]
        }
      ],
      "source": [
        "ckd_df.info()"
      ]
    },
    {
      "cell_type": "code",
      "execution_count": null,
      "id": "599640c0-b1da-4937-b14a-4be42555ca1c",
      "metadata": {
        "id": "599640c0-b1da-4937-b14a-4be42555ca1c",
        "outputId": "a8357ce9-8566-4432-a23c-7cc3e35dc253"
      },
      "outputs": [
        {
          "data": {
            "text/plain": [
              "array([nan, 'normal', 'abnormal'], dtype=object)"
            ]
          },
          "execution_count": 123,
          "metadata": {},
          "output_type": "execute_result"
        }
      ],
      "source": [
        "ckd_df['rbc'].unique()"
      ]
    },
    {
      "cell_type": "code",
      "execution_count": null,
      "id": "07d1ce4b-5014-4d72-b3cd-fcc0404a9042",
      "metadata": {
        "id": "07d1ce4b-5014-4d72-b3cd-fcc0404a9042",
        "outputId": "accb00a8-1d1d-4259-bfcc-66d4ddb02096"
      },
      "outputs": [
        {
          "name": "stderr",
          "output_type": "stream",
          "text": [
            "/var/folders/yq/qpl7yv6s50nbrkmm26bmqfyc0000gn/T/ipykernel_31633/2276916871.py:7: FutureWarning: Downcasting behavior in `replace` is deprecated and will be removed in a future version. To retain the old behavior, explicitly call `result.infer_objects(copy=False)`. To opt-in to the future behavior, set `pd.set_option('future.no_silent_downcasting', True)`\n",
            "  ckd_df['rbc'] = ckd_df['rbc'].replace({'normal': 1, 'abnormal': 2, np.nan: 0}).astype(int)\n"
          ]
        },
        {
          "data": {
            "text/plain": [
              "0      0\n",
              "1      0\n",
              "2      1\n",
              "3      1\n",
              "4      1\n",
              "      ..\n",
              "395    1\n",
              "396    1\n",
              "397    1\n",
              "398    1\n",
              "399    1\n",
              "Name: rbc, Length: 400, dtype: int64"
            ]
          },
          "execution_count": 124,
          "metadata": {},
          "output_type": "execute_result"
        }
      ],
      "source": [
        "#8--to replace spaces with underscore in col names-----\n",
        "# data['rbc']=data['rbc'].replace( {'normal':1 ,'abnormal':2, 'NaN':0} ).astype(int)\n",
        "# data['rbc\n",
        "#data['rbc'] = data['rbc'].fillna('missing')\n",
        "\n",
        "\n",
        "ckd_df['rbc'] = ckd_df['rbc'].replace({'normal': 1, 'abnormal': 2, np.nan: 0}).astype(int)\n",
        "ckd_df['rbc']\n"
      ]
    },
    {
      "cell_type": "code",
      "execution_count": null,
      "id": "ef32d70c-b2d2-40ce-9a11-432d36f673c2",
      "metadata": {
        "id": "ef32d70c-b2d2-40ce-9a11-432d36f673c2",
        "outputId": "650abe56-156f-4e1e-a50d-a52f9bfb63cb"
      },
      "outputs": [
        {
          "data": {
            "text/plain": [
              "0     0\n",
              "1     0\n",
              "2     1\n",
              "3     1\n",
              "4     1\n",
              "5     0\n",
              "6     0\n",
              "7     1\n",
              "8     1\n",
              "9     2\n",
              "10    0\n",
              "11    2\n",
              "12    0\n",
              "13    0\n",
              "14    1\n",
              "15    0\n",
              "16    0\n",
              "17    0\n",
              "18    0\n",
              "19    0\n",
              "Name: rbc, dtype: int64"
            ]
          },
          "execution_count": 125,
          "metadata": {},
          "output_type": "execute_result"
        }
      ],
      "source": [
        "ckd_df['rbc'].head(20)"
      ]
    },
    {
      "cell_type": "code",
      "execution_count": null,
      "id": "48a82b05-83cd-401d-979a-497ca17ba64b",
      "metadata": {
        "id": "48a82b05-83cd-401d-979a-497ca17ba64b",
        "outputId": "7c369bdf-b514-4315-8c78-daca5361bd97"
      },
      "outputs": [
        {
          "data": {
            "text/plain": [
              "array([0, 1, 2])"
            ]
          },
          "execution_count": 126,
          "metadata": {},
          "output_type": "execute_result"
        }
      ],
      "source": [
        "ckd_df['rbc'].unique()"
      ]
    },
    {
      "cell_type": "code",
      "execution_count": null,
      "id": "597fd193-aa69-414b-a49c-aa1695f12a21",
      "metadata": {
        "id": "597fd193-aa69-414b-a49c-aa1695f12a21",
        "outputId": "5e2a0e79-fd7d-4c36-990a-52ac32b451a7"
      },
      "outputs": [
        {
          "name": "stdout",
          "output_type": "stream",
          "text": [
            "<class 'pandas.core.frame.DataFrame'>\n",
            "RangeIndex: 400 entries, 0 to 399\n",
            "Data columns (total 26 columns):\n",
            " #   Column          Non-Null Count  Dtype  \n",
            "---  ------          --------------  -----  \n",
            " 0   id              400 non-null    int64  \n",
            " 1   age             400 non-null    int64  \n",
            " 2   bp              400 non-null    int64  \n",
            " 3   sg              400 non-null    float64\n",
            " 4   al              400 non-null    float64\n",
            " 5   su              400 non-null    float64\n",
            " 6   rbc             400 non-null    int64  \n",
            " 7   pc              335 non-null    object \n",
            " 8   pcc             396 non-null    object \n",
            " 9   ba              396 non-null    object \n",
            " 10  bgr             356 non-null    float64\n",
            " 11  bu              381 non-null    float64\n",
            " 12  sc              383 non-null    float64\n",
            " 13  sod             313 non-null    float64\n",
            " 14  pot             312 non-null    float64\n",
            " 15  hemo            348 non-null    float64\n",
            " 16  pcv             330 non-null    object \n",
            " 17  wc              295 non-null    object \n",
            " 18  rc              270 non-null    object \n",
            " 19  htn             398 non-null    object \n",
            " 20  dm              398 non-null    object \n",
            " 21  cad             398 non-null    object \n",
            " 22  appet           399 non-null    object \n",
            " 23  pe              399 non-null    object \n",
            " 24  ane             399 non-null    object \n",
            " 25  classification  400 non-null    object \n",
            "dtypes: float64(9), int64(4), object(13)\n",
            "memory usage: 81.4+ KB\n"
          ]
        }
      ],
      "source": [
        "ckd_df.info()"
      ]
    },
    {
      "cell_type": "code",
      "execution_count": null,
      "id": "8b0e357c-854d-4e35-9beb-ab023364b41a",
      "metadata": {
        "id": "8b0e357c-854d-4e35-9beb-ab023364b41a",
        "outputId": "1f39d8e0-e00d-4884-b8ce-2f183c767f9a"
      },
      "outputs": [
        {
          "data": {
            "text/plain": [
              "array(['notpresent', 'present', nan], dtype=object)"
            ]
          },
          "execution_count": 128,
          "metadata": {},
          "output_type": "execute_result"
        }
      ],
      "source": [
        "ckd_df['pcc'].unique()"
      ]
    },
    {
      "cell_type": "code",
      "execution_count": null,
      "id": "3c14faa0-2f54-4f7d-89c3-e7911cde374d",
      "metadata": {
        "id": "3c14faa0-2f54-4f7d-89c3-e7911cde374d",
        "outputId": "c8c40660-31d6-4013-be68-03e7cb67ffed"
      },
      "outputs": [
        {
          "name": "stderr",
          "output_type": "stream",
          "text": [
            "/var/folders/yq/qpl7yv6s50nbrkmm26bmqfyc0000gn/T/ipykernel_31633/1098650768.py:1: FutureWarning: Downcasting behavior in `replace` is deprecated and will be removed in a future version. To retain the old behavior, explicitly call `result.infer_objects(copy=False)`. To opt-in to the future behavior, set `pd.set_option('future.no_silent_downcasting', True)`\n",
            "  ckd_df['pcc'] = ckd_df['pcc'].replace({'present': 2, 'notpresent': 1, np.nan: 0}).astype(int)\n"
          ]
        },
        {
          "data": {
            "text/plain": [
              "0      1\n",
              "1      1\n",
              "2      1\n",
              "3      2\n",
              "4      1\n",
              "      ..\n",
              "395    1\n",
              "396    1\n",
              "397    1\n",
              "398    1\n",
              "399    1\n",
              "Name: pcc, Length: 400, dtype: int64"
            ]
          },
          "execution_count": 129,
          "metadata": {},
          "output_type": "execute_result"
        }
      ],
      "source": [
        "ckd_df['pcc'] = ckd_df['pcc'].replace({'present': 2, 'notpresent': 1, np.nan: 0}).astype(int)\n",
        "ckd_df['pcc']"
      ]
    },
    {
      "cell_type": "code",
      "execution_count": null,
      "id": "e653d732-f116-443b-936b-7348f4e50ea4",
      "metadata": {
        "id": "e653d732-f116-443b-936b-7348f4e50ea4",
        "outputId": "1a1afc01-20b0-412a-e385-43b8ed9f9f6f"
      },
      "outputs": [
        {
          "data": {
            "text/plain": [
              "array([1, 2, 0])"
            ]
          },
          "execution_count": 130,
          "metadata": {},
          "output_type": "execute_result"
        }
      ],
      "source": [
        "ckd_df['pcc'].unique()"
      ]
    },
    {
      "cell_type": "code",
      "execution_count": null,
      "id": "fb2d4cd9-d417-4ed8-9623-76843cedca81",
      "metadata": {
        "id": "fb2d4cd9-d417-4ed8-9623-76843cedca81",
        "outputId": "2320bc2c-43a6-4ce1-bb8c-558555b15856"
      },
      "outputs": [
        {
          "data": {
            "text/plain": [
              "array(['normal', 'abnormal', nan], dtype=object)"
            ]
          },
          "execution_count": 131,
          "metadata": {},
          "output_type": "execute_result"
        }
      ],
      "source": [
        "ckd_df['pc'].unique()"
      ]
    },
    {
      "cell_type": "code",
      "execution_count": null,
      "id": "4385c01b-13f2-4066-af9f-82f653ce17ee",
      "metadata": {
        "id": "4385c01b-13f2-4066-af9f-82f653ce17ee",
        "outputId": "a349c12c-fcfe-42e1-a3ba-7327dd871425"
      },
      "outputs": [
        {
          "name": "stderr",
          "output_type": "stream",
          "text": [
            "/var/folders/yq/qpl7yv6s50nbrkmm26bmqfyc0000gn/T/ipykernel_31633/294522041.py:1: FutureWarning: Downcasting behavior in `replace` is deprecated and will be removed in a future version. To retain the old behavior, explicitly call `result.infer_objects(copy=False)`. To opt-in to the future behavior, set `pd.set_option('future.no_silent_downcasting', True)`\n",
            "  ckd_df['pc'] = ckd_df['pc'].replace({'normal':1, 'abnormal':2, np.nan:0}).astype(int)\n"
          ]
        }
      ],
      "source": [
        "ckd_df['pc'] = ckd_df['pc'].replace({'normal':1, 'abnormal':2, np.nan:0}).astype(int)"
      ]
    },
    {
      "cell_type": "code",
      "execution_count": null,
      "id": "61048e1d-3f22-4455-8f78-0a7bd73aa2d1",
      "metadata": {
        "id": "61048e1d-3f22-4455-8f78-0a7bd73aa2d1",
        "outputId": "885df3ed-a27f-49d2-a048-68ed7349e5c7"
      },
      "outputs": [
        {
          "data": {
            "text/plain": [
              "0      1\n",
              "1      1\n",
              "2      1\n",
              "3      2\n",
              "4      1\n",
              "      ..\n",
              "395    1\n",
              "396    1\n",
              "397    1\n",
              "398    1\n",
              "399    1\n",
              "Name: pc, Length: 400, dtype: int64"
            ]
          },
          "execution_count": 133,
          "metadata": {},
          "output_type": "execute_result"
        }
      ],
      "source": [
        "ckd_df['pc']"
      ]
    },
    {
      "cell_type": "code",
      "execution_count": null,
      "id": "eace7500-27e7-4f84-b733-769872e3bc30",
      "metadata": {
        "id": "eace7500-27e7-4f84-b733-769872e3bc30",
        "outputId": "c865d2d7-5ae7-41b3-ac64-4cb624658afb"
      },
      "outputs": [
        {
          "data": {
            "text/plain": [
              "array([1, 2, 0])"
            ]
          },
          "execution_count": 134,
          "metadata": {},
          "output_type": "execute_result"
        }
      ],
      "source": [
        "ckd_df['pc'].unique()"
      ]
    },
    {
      "cell_type": "code",
      "execution_count": null,
      "id": "4135ebf5-f972-4270-ac4b-40d2ab4b1a49",
      "metadata": {
        "id": "4135ebf5-f972-4270-ac4b-40d2ab4b1a49",
        "outputId": "df60ec45-a712-430e-d2ab-e44f33fec3be"
      },
      "outputs": [
        {
          "data": {
            "text/plain": [
              "array(['notpresent', 'present', nan], dtype=object)"
            ]
          },
          "execution_count": 135,
          "metadata": {},
          "output_type": "execute_result"
        }
      ],
      "source": [
        "ckd_df['ba'].unique()"
      ]
    },
    {
      "cell_type": "code",
      "execution_count": null,
      "id": "75c94566-ce95-41e1-a48c-467b41fa5d7c",
      "metadata": {
        "id": "75c94566-ce95-41e1-a48c-467b41fa5d7c",
        "outputId": "a1bf989e-e33a-49c5-d8b7-dd78df5287d6"
      },
      "outputs": [
        {
          "name": "stderr",
          "output_type": "stream",
          "text": [
            "/var/folders/yq/qpl7yv6s50nbrkmm26bmqfyc0000gn/T/ipykernel_31633/2167086188.py:1: FutureWarning: Downcasting behavior in `replace` is deprecated and will be removed in a future version. To retain the old behavior, explicitly call `result.infer_objects(copy=False)`. To opt-in to the future behavior, set `pd.set_option('future.no_silent_downcasting', True)`\n",
            "  ckd_df['ba'] = ckd_df['ba'].replace({'present': 2, 'notpresent': 1, np.nan: 0}).astype(int)\n"
          ]
        },
        {
          "data": {
            "text/plain": [
              "0      1\n",
              "1      1\n",
              "2      1\n",
              "3      1\n",
              "4      1\n",
              "      ..\n",
              "395    1\n",
              "396    1\n",
              "397    1\n",
              "398    1\n",
              "399    1\n",
              "Name: ba, Length: 400, dtype: int64"
            ]
          },
          "execution_count": 136,
          "metadata": {},
          "output_type": "execute_result"
        }
      ],
      "source": [
        "ckd_df['ba'] = ckd_df['ba'].replace({'present': 2, 'notpresent': 1, np.nan: 0}).astype(int)\n",
        "ckd_df['ba']"
      ]
    },
    {
      "cell_type": "code",
      "execution_count": null,
      "id": "55d8f5ca-c08d-4186-80d3-3ffe325236ad",
      "metadata": {
        "id": "55d8f5ca-c08d-4186-80d3-3ffe325236ad",
        "outputId": "378a1f4c-29cd-4bbb-f189-7f2744dad04e"
      },
      "outputs": [
        {
          "data": {
            "text/plain": [
              "array([1, 2, 0])"
            ]
          },
          "execution_count": 137,
          "metadata": {},
          "output_type": "execute_result"
        }
      ],
      "source": [
        "ckd_df['ba'].unique()"
      ]
    },
    {
      "cell_type": "code",
      "execution_count": null,
      "id": "873e3617-1f4f-4663-938f-974fb485a7ce",
      "metadata": {
        "id": "873e3617-1f4f-4663-938f-974fb485a7ce",
        "outputId": "37bca658-bd3d-4aa3-c982-6ed3a2675ee0"
      },
      "outputs": [
        {
          "data": {
            "text/plain": [
              "array([121.,  nan, 423., 117., 106.,  74., 100., 410., 138.,  70., 490.,\n",
              "       380., 208.,  98., 157.,  76.,  99., 114., 263., 173.,  95., 108.,\n",
              "       156., 264., 123.,  93., 107., 159., 140., 171., 270.,  92., 137.,\n",
              "       204.,  79., 207., 124., 144.,  91., 162., 246., 253., 141., 182.,\n",
              "        86., 150., 146., 425., 112., 250., 360., 163., 129., 133., 102.,\n",
              "       158., 165., 132., 104., 127., 415., 169., 251., 109., 280., 210.,\n",
              "       219., 295.,  94., 172., 101., 298., 153.,  88., 226., 143., 115.,\n",
              "        89., 297., 233., 294., 323., 125.,  90., 308., 118., 224., 128.,\n",
              "       122., 214., 213., 268., 256.,  84., 105., 288., 139.,  78., 273.,\n",
              "       242., 424., 303., 148., 160., 192., 307., 220., 447., 309.,  22.,\n",
              "       111., 261., 215., 234., 131., 352.,  80., 239., 110., 130., 184.,\n",
              "       252., 113., 230., 341., 255., 103., 238., 248., 120., 241., 269.,\n",
              "       201., 203., 463., 176.,  82., 119.,  97.,  96.,  81., 116., 134.,\n",
              "        85.,  83.,  87.,  75.])"
            ]
          },
          "execution_count": 138,
          "metadata": {},
          "output_type": "execute_result"
        }
      ],
      "source": [
        "ckd_df['bgr'].unique()"
      ]
    },
    {
      "cell_type": "code",
      "execution_count": null,
      "id": "63fdfe99-2368-4456-8f28-05b160d010d3",
      "metadata": {
        "id": "63fdfe99-2368-4456-8f28-05b160d010d3"
      },
      "outputs": [],
      "source": [
        "ckd_df['bgr'] = ckd_df['bgr'].fillna(ckd_df['bgr'].mean())"
      ]
    },
    {
      "cell_type": "code",
      "execution_count": null,
      "id": "5e495564-9fae-423a-8ade-3db14a9c77b2",
      "metadata": {
        "id": "5e495564-9fae-423a-8ade-3db14a9c77b2"
      },
      "outputs": [],
      "source": [
        "ckd_df['bgr'] = ckd_df['bgr']"
      ]
    },
    {
      "cell_type": "code",
      "execution_count": null,
      "id": "11986f60-8295-4a14-bc5b-b5d273cfb680",
      "metadata": {
        "id": "11986f60-8295-4a14-bc5b-b5d273cfb680",
        "outputId": "9b9acb73-81bc-4730-feae-c5277714419b"
      },
      "outputs": [
        {
          "data": {
            "text/plain": [
              "0     121.000000\n",
              "1     148.036517\n",
              "2     423.000000\n",
              "3     117.000000\n",
              "4     106.000000\n",
              "5      74.000000\n",
              "6     100.000000\n",
              "7     410.000000\n",
              "8     138.000000\n",
              "9      70.000000\n",
              "10    490.000000\n",
              "11    380.000000\n",
              "12    208.000000\n",
              "13     98.000000\n",
              "14    157.000000\n",
              "15     76.000000\n",
              "16     99.000000\n",
              "17    114.000000\n",
              "18    263.000000\n",
              "19    100.000000\n",
              "Name: bgr, dtype: float64"
            ]
          },
          "execution_count": 141,
          "metadata": {},
          "output_type": "execute_result"
        }
      ],
      "source": [
        "ckd_df['bgr'].head(20)"
      ]
    },
    {
      "cell_type": "code",
      "execution_count": null,
      "id": "b3ee44d2-a452-43d4-832f-0ea06fe2fe1a",
      "metadata": {
        "id": "b3ee44d2-a452-43d4-832f-0ea06fe2fe1a",
        "outputId": "6170cc1a-9107-406f-c157-3768f3cfa51b"
      },
      "outputs": [
        {
          "data": {
            "text/plain": [
              "id                  0\n",
              "age                 0\n",
              "bp                  0\n",
              "sg                  0\n",
              "al                  0\n",
              "su                  0\n",
              "rbc                 0\n",
              "pc                  0\n",
              "pcc                 0\n",
              "ba                  0\n",
              "bgr                 0\n",
              "bu                 19\n",
              "sc                 17\n",
              "sod                87\n",
              "pot                88\n",
              "hemo               52\n",
              "pcv                70\n",
              "wc                105\n",
              "rc                130\n",
              "htn                 2\n",
              "dm                  2\n",
              "cad                 2\n",
              "appet               1\n",
              "pe                  1\n",
              "ane                 1\n",
              "classification      0\n",
              "dtype: int64"
            ]
          },
          "execution_count": 142,
          "metadata": {},
          "output_type": "execute_result"
        }
      ],
      "source": [
        "ckd_df.isna().sum()"
      ]
    },
    {
      "cell_type": "code",
      "execution_count": null,
      "id": "bdf75c8d-638b-4bb1-ba26-8a2701588865",
      "metadata": {
        "id": "bdf75c8d-638b-4bb1-ba26-8a2701588865",
        "outputId": "04838d9a-235b-4a30-ea3a-db60b5e173c6"
      },
      "outputs": [
        {
          "name": "stdout",
          "output_type": "stream",
          "text": [
            "<class 'pandas.core.frame.DataFrame'>\n",
            "RangeIndex: 400 entries, 0 to 399\n",
            "Data columns (total 26 columns):\n",
            " #   Column          Non-Null Count  Dtype  \n",
            "---  ------          --------------  -----  \n",
            " 0   id              400 non-null    int64  \n",
            " 1   age             400 non-null    int64  \n",
            " 2   bp              400 non-null    int64  \n",
            " 3   sg              400 non-null    float64\n",
            " 4   al              400 non-null    float64\n",
            " 5   su              400 non-null    float64\n",
            " 6   rbc             400 non-null    int64  \n",
            " 7   pc              400 non-null    int64  \n",
            " 8   pcc             400 non-null    int64  \n",
            " 9   ba              400 non-null    int64  \n",
            " 10  bgr             400 non-null    float64\n",
            " 11  bu              381 non-null    float64\n",
            " 12  sc              383 non-null    float64\n",
            " 13  sod             313 non-null    float64\n",
            " 14  pot             312 non-null    float64\n",
            " 15  hemo            348 non-null    float64\n",
            " 16  pcv             330 non-null    object \n",
            " 17  wc              295 non-null    object \n",
            " 18  rc              270 non-null    object \n",
            " 19  htn             398 non-null    object \n",
            " 20  dm              398 non-null    object \n",
            " 21  cad             398 non-null    object \n",
            " 22  appet           399 non-null    object \n",
            " 23  pe              399 non-null    object \n",
            " 24  ane             399 non-null    object \n",
            " 25  classification  400 non-null    object \n",
            "dtypes: float64(9), int64(7), object(10)\n",
            "memory usage: 81.4+ KB\n"
          ]
        }
      ],
      "source": [
        "ckd_df.info()"
      ]
    },
    {
      "cell_type": "code",
      "execution_count": null,
      "id": "b41ad97a-4689-444c-8773-4ffb253830db",
      "metadata": {
        "id": "b41ad97a-4689-444c-8773-4ffb253830db",
        "outputId": "0929df30-bf58-4111-ee01-5fd9ff9483ad"
      },
      "outputs": [
        {
          "data": {
            "text/plain": [
              "array([ 36. ,  18. ,  53. ,  56. ,  26. ,  25. ,  54. ,  31. ,  60. ,\n",
              "       107. ,  55. ,  72. ,  86. ,  90. , 162. ,  46. ,  87. ,  27. ,\n",
              "       148. , 180. , 163. ,   nan,  50. ,  75. ,  45. ,  28. , 155. ,\n",
              "        33. ,  39. , 153. ,  29. ,  65. , 103. ,  70. ,  80. ,  20. ,\n",
              "       202. ,  77. ,  89. ,  24. ,  17. ,  32. , 114. ,  66. ,  38. ,\n",
              "       164. , 142. ,  96. , 391. ,  15. , 111. ,  73. ,  19. ,  92. ,\n",
              "        35. ,  16. , 139. ,  48. ,  85. ,  98. , 186. ,  37. ,  47. ,\n",
              "        52. ,  82. ,  51. , 106. ,  22. , 217. ,  88. , 118. ,  50.1,\n",
              "        71. ,  34. ,  40. ,  21. , 219. ,  30. , 125. , 166. ,  49. ,\n",
              "       208. , 176. ,  68. , 145. , 165. , 322. ,  23. , 235. , 132. ,\n",
              "        76. ,  42. ,  44. ,  41. , 113. ,   1.5, 146. ,  58. , 133. ,\n",
              "       137. ,  67. , 115. , 223. ,  98.6, 158. ,  94. ,  74. , 150. ,\n",
              "        61. ,  57. ,  95. , 191. ,  93. , 241. ,  64. ,  79. , 215. ,\n",
              "       309. ,  10. ])"
            ]
          },
          "execution_count": 144,
          "metadata": {},
          "output_type": "execute_result"
        }
      ],
      "source": [
        "ckd_df['bu'].unique()"
      ]
    },
    {
      "cell_type": "code",
      "execution_count": null,
      "id": "9e7a7e0b-0090-4437-a248-905e0be3bea6",
      "metadata": {
        "id": "9e7a7e0b-0090-4437-a248-905e0be3bea6"
      },
      "outputs": [],
      "source": [
        "ckd_df['bu'] = ckd_df['bu'].fillna(ckd_df['bu'].mean())"
      ]
    },
    {
      "cell_type": "code",
      "execution_count": null,
      "id": "dace2246-5c67-4010-93c5-fa03b507a24d",
      "metadata": {
        "id": "dace2246-5c67-4010-93c5-fa03b507a24d"
      },
      "outputs": [],
      "source": [
        "ckd_df['bu'] = ckd_df['bu']"
      ]
    },
    {
      "cell_type": "code",
      "execution_count": null,
      "id": "cf11580f-71b8-489e-a386-83d5a9cd06fc",
      "metadata": {
        "id": "cf11580f-71b8-489e-a386-83d5a9cd06fc",
        "outputId": "f2290e20-a9ae-4680-8353-c74359ce39e6"
      },
      "outputs": [
        {
          "data": {
            "text/plain": [
              "0      36.0\n",
              "1      18.0\n",
              "2      53.0\n",
              "3      56.0\n",
              "4      26.0\n",
              "5      25.0\n",
              "6      54.0\n",
              "7      31.0\n",
              "8      60.0\n",
              "9     107.0\n",
              "10     55.0\n",
              "11     60.0\n",
              "12     72.0\n",
              "13     86.0\n",
              "14     90.0\n",
              "15    162.0\n",
              "16     46.0\n",
              "17     87.0\n",
              "18     27.0\n",
              "19     31.0\n",
              "Name: bu, dtype: float64"
            ]
          },
          "execution_count": 147,
          "metadata": {},
          "output_type": "execute_result"
        }
      ],
      "source": [
        "ckd_df['bu'].head(20)"
      ]
    },
    {
      "cell_type": "code",
      "execution_count": null,
      "id": "40dbfb16-7680-4e73-a062-cc16e895b668",
      "metadata": {
        "id": "40dbfb16-7680-4e73-a062-cc16e895b668",
        "outputId": "3e38548b-b2eb-45c2-8e60-457bd51301ba"
      },
      "outputs": [
        {
          "data": {
            "text/plain": [
              "id                  0\n",
              "age                 0\n",
              "bp                  0\n",
              "sg                  0\n",
              "al                  0\n",
              "su                  0\n",
              "rbc                 0\n",
              "pc                  0\n",
              "pcc                 0\n",
              "ba                  0\n",
              "bgr                 0\n",
              "bu                  0\n",
              "sc                 17\n",
              "sod                87\n",
              "pot                88\n",
              "hemo               52\n",
              "pcv                70\n",
              "wc                105\n",
              "rc                130\n",
              "htn                 2\n",
              "dm                  2\n",
              "cad                 2\n",
              "appet               1\n",
              "pe                  1\n",
              "ane                 1\n",
              "classification      0\n",
              "dtype: int64"
            ]
          },
          "execution_count": 148,
          "metadata": {},
          "output_type": "execute_result"
        }
      ],
      "source": [
        "ckd_df.isna().sum()"
      ]
    },
    {
      "cell_type": "code",
      "execution_count": null,
      "id": "c0ce6493-59b4-4300-a973-1fe851857445",
      "metadata": {
        "id": "c0ce6493-59b4-4300-a973-1fe851857445",
        "outputId": "fbcbc704-a2b2-4ae0-8474-0df25bf3cd21"
      },
      "outputs": [
        {
          "name": "stdout",
          "output_type": "stream",
          "text": [
            "<class 'pandas.core.frame.DataFrame'>\n",
            "RangeIndex: 400 entries, 0 to 399\n",
            "Data columns (total 26 columns):\n",
            " #   Column          Non-Null Count  Dtype  \n",
            "---  ------          --------------  -----  \n",
            " 0   id              400 non-null    int64  \n",
            " 1   age             400 non-null    int64  \n",
            " 2   bp              400 non-null    int64  \n",
            " 3   sg              400 non-null    float64\n",
            " 4   al              400 non-null    float64\n",
            " 5   su              400 non-null    float64\n",
            " 6   rbc             400 non-null    int64  \n",
            " 7   pc              400 non-null    int64  \n",
            " 8   pcc             400 non-null    int64  \n",
            " 9   ba              400 non-null    int64  \n",
            " 10  bgr             400 non-null    float64\n",
            " 11  bu              400 non-null    float64\n",
            " 12  sc              383 non-null    float64\n",
            " 13  sod             313 non-null    float64\n",
            " 14  pot             312 non-null    float64\n",
            " 15  hemo            348 non-null    float64\n",
            " 16  pcv             330 non-null    object \n",
            " 17  wc              295 non-null    object \n",
            " 18  rc              270 non-null    object \n",
            " 19  htn             398 non-null    object \n",
            " 20  dm              398 non-null    object \n",
            " 21  cad             398 non-null    object \n",
            " 22  appet           399 non-null    object \n",
            " 23  pe              399 non-null    object \n",
            " 24  ane             399 non-null    object \n",
            " 25  classification  400 non-null    object \n",
            "dtypes: float64(9), int64(7), object(10)\n",
            "memory usage: 81.4+ KB\n"
          ]
        }
      ],
      "source": [
        "ckd_df.info()"
      ]
    },
    {
      "cell_type": "code",
      "execution_count": null,
      "id": "04599ee7-74e5-44ea-868f-eb740371fdb6",
      "metadata": {
        "id": "04599ee7-74e5-44ea-868f-eb740371fdb6",
        "outputId": "d611509a-7252-4112-c924-0a59a266dac1"
      },
      "outputs": [
        {
          "data": {
            "text/plain": [
              "array([ 1.2 ,  0.8 ,  1.8 ,  3.8 ,  1.4 ,  1.1 , 24.  ,  1.9 ,  7.2 ,\n",
              "        4.  ,  2.7 ,  2.1 ,  4.6 ,  4.1 ,  9.6 ,  2.2 ,  5.2 ,  1.3 ,\n",
              "        1.6 ,  3.9 , 76.  ,  7.7 ,   nan,  2.4 ,  7.3 ,  1.5 ,  2.5 ,\n",
              "        2.  ,  3.4 ,  0.7 ,  1.  , 10.8 ,  6.3 ,  5.9 ,  0.9 ,  3.  ,\n",
              "        3.25,  9.7 ,  6.4 ,  3.2 , 32.  ,  0.6 ,  6.1 ,  3.3 ,  6.7 ,\n",
              "        8.5 ,  2.8 , 15.  ,  2.9 ,  1.7 ,  3.6 ,  5.6 ,  6.5 ,  4.4 ,\n",
              "       10.2 , 11.5 ,  0.5 , 12.2 ,  5.3 ,  9.2 , 13.8 , 16.9 ,  6.  ,\n",
              "        7.1 , 18.  ,  2.3 , 13.  , 48.1 , 14.2 , 16.4 ,  2.6 ,  7.5 ,\n",
              "        4.3 , 18.1 , 11.8 ,  9.3 ,  6.8 , 13.5 , 12.8 , 11.9 , 12.  ,\n",
              "       13.4 , 15.2 , 13.3 ,  0.4 ])"
            ]
          },
          "execution_count": 150,
          "metadata": {},
          "output_type": "execute_result"
        }
      ],
      "source": [
        "ckd_df['sc'].unique()"
      ]
    },
    {
      "cell_type": "code",
      "execution_count": null,
      "id": "98344e60-b555-4052-a922-129f382b9fad",
      "metadata": {
        "id": "98344e60-b555-4052-a922-129f382b9fad"
      },
      "outputs": [],
      "source": [
        "ckd_df['sc'] = ckd_df['sc'].fillna(ckd_df['sc'].mean())"
      ]
    },
    {
      "cell_type": "code",
      "execution_count": null,
      "id": "63760bd5-6408-41bb-ac00-d7976c4ef606",
      "metadata": {
        "id": "63760bd5-6408-41bb-ac00-d7976c4ef606"
      },
      "outputs": [],
      "source": [
        "ckd_df['sc'] = ckd_df['sc']"
      ]
    },
    {
      "cell_type": "code",
      "execution_count": null,
      "id": "cefa61a1-7d53-4533-8bd6-1c7f7385124e",
      "metadata": {
        "id": "cefa61a1-7d53-4533-8bd6-1c7f7385124e",
        "outputId": "927c1883-b8ec-4d88-b1c3-71da4e435e53"
      },
      "outputs": [
        {
          "data": {
            "text/plain": [
              "0      1.2\n",
              "1      0.8\n",
              "2      1.8\n",
              "3      3.8\n",
              "4      1.4\n",
              "5      1.1\n",
              "6     24.0\n",
              "7      1.1\n",
              "8      1.9\n",
              "9      7.2\n",
              "10     4.0\n",
              "11     2.7\n",
              "12     2.1\n",
              "13     4.6\n",
              "14     4.1\n",
              "15     9.6\n",
              "16     2.2\n",
              "17     5.2\n",
              "18     1.3\n",
              "19     1.6\n",
              "Name: sc, dtype: float64"
            ]
          },
          "execution_count": 153,
          "metadata": {},
          "output_type": "execute_result"
        }
      ],
      "source": [
        "ckd_df['sc'].head(20)"
      ]
    },
    {
      "cell_type": "code",
      "execution_count": null,
      "id": "c05fd380-2b68-4ccd-8f42-5a37f0ce7d3b",
      "metadata": {
        "id": "c05fd380-2b68-4ccd-8f42-5a37f0ce7d3b",
        "outputId": "9d6d6fed-ffdc-42fa-8629-fbcce3e54a4f"
      },
      "outputs": [
        {
          "data": {
            "text/plain": [
              "id                  0\n",
              "age                 0\n",
              "bp                  0\n",
              "sg                  0\n",
              "al                  0\n",
              "su                  0\n",
              "rbc                 0\n",
              "pc                  0\n",
              "pcc                 0\n",
              "ba                  0\n",
              "bgr                 0\n",
              "bu                  0\n",
              "sc                  0\n",
              "sod                87\n",
              "pot                88\n",
              "hemo               52\n",
              "pcv                70\n",
              "wc                105\n",
              "rc                130\n",
              "htn                 2\n",
              "dm                  2\n",
              "cad                 2\n",
              "appet               1\n",
              "pe                  1\n",
              "ane                 1\n",
              "classification      0\n",
              "dtype: int64"
            ]
          },
          "execution_count": 154,
          "metadata": {},
          "output_type": "execute_result"
        }
      ],
      "source": [
        "ckd_df.isna().sum()"
      ]
    },
    {
      "cell_type": "code",
      "execution_count": null,
      "id": "82304264-cc2c-4baf-a5a6-87278f7c0768",
      "metadata": {
        "id": "82304264-cc2c-4baf-a5a6-87278f7c0768",
        "outputId": "9f04e284-3ab6-4bcb-d97f-b1d4cd9f9308"
      },
      "outputs": [
        {
          "name": "stdout",
          "output_type": "stream",
          "text": [
            "<class 'pandas.core.frame.DataFrame'>\n",
            "RangeIndex: 400 entries, 0 to 399\n",
            "Data columns (total 26 columns):\n",
            " #   Column          Non-Null Count  Dtype  \n",
            "---  ------          --------------  -----  \n",
            " 0   id              400 non-null    int64  \n",
            " 1   age             400 non-null    int64  \n",
            " 2   bp              400 non-null    int64  \n",
            " 3   sg              400 non-null    float64\n",
            " 4   al              400 non-null    float64\n",
            " 5   su              400 non-null    float64\n",
            " 6   rbc             400 non-null    int64  \n",
            " 7   pc              400 non-null    int64  \n",
            " 8   pcc             400 non-null    int64  \n",
            " 9   ba              400 non-null    int64  \n",
            " 10  bgr             400 non-null    float64\n",
            " 11  bu              400 non-null    float64\n",
            " 12  sc              400 non-null    float64\n",
            " 13  sod             313 non-null    float64\n",
            " 14  pot             312 non-null    float64\n",
            " 15  hemo            348 non-null    float64\n",
            " 16  pcv             330 non-null    object \n",
            " 17  wc              295 non-null    object \n",
            " 18  rc              270 non-null    object \n",
            " 19  htn             398 non-null    object \n",
            " 20  dm              398 non-null    object \n",
            " 21  cad             398 non-null    object \n",
            " 22  appet           399 non-null    object \n",
            " 23  pe              399 non-null    object \n",
            " 24  ane             399 non-null    object \n",
            " 25  classification  400 non-null    object \n",
            "dtypes: float64(9), int64(7), object(10)\n",
            "memory usage: 81.4+ KB\n"
          ]
        }
      ],
      "source": [
        "ckd_df.info()"
      ]
    },
    {
      "cell_type": "code",
      "execution_count": null,
      "id": "2e51b6c2-b7b1-4b72-b6bc-a718842c06a0",
      "metadata": {
        "id": "2e51b6c2-b7b1-4b72-b6bc-a718842c06a0",
        "outputId": "f235a2c8-47f1-4a54-97ac-b85ce9a038f6"
      },
      "outputs": [
        {
          "data": {
            "text/plain": [
              "array([  nan, 111. , 142. , 104. , 114. , 131. , 138. , 135. , 130. ,\n",
              "       141. , 139. ,   4.5, 136. , 129. , 140. , 132. , 133. , 134. ,\n",
              "       125. , 163. , 137. , 128. , 143. , 127. , 146. , 126. , 122. ,\n",
              "       147. , 124. , 115. , 145. , 113. , 120. , 150. , 144. ])"
            ]
          },
          "execution_count": 156,
          "metadata": {},
          "output_type": "execute_result"
        }
      ],
      "source": [
        "ckd_df['sod'].unique()"
      ]
    },
    {
      "cell_type": "code",
      "execution_count": null,
      "id": "2762d0be-e907-4d40-aa34-ed35967a3a2e",
      "metadata": {
        "id": "2762d0be-e907-4d40-aa34-ed35967a3a2e"
      },
      "outputs": [],
      "source": [
        "ckd_df['sod'] = ckd_df['sod'].fillna(ckd_df['sod'].mean())"
      ]
    },
    {
      "cell_type": "code",
      "execution_count": null,
      "id": "f9947131-7126-438f-a277-2f7fdefae67b",
      "metadata": {
        "id": "f9947131-7126-438f-a277-2f7fdefae67b"
      },
      "outputs": [],
      "source": [
        "ckd_df['sod'] = ckd_df['sod']"
      ]
    },
    {
      "cell_type": "code",
      "execution_count": null,
      "id": "8b8d2eb8-40fd-499a-baf2-1877412d949f",
      "metadata": {
        "id": "8b8d2eb8-40fd-499a-baf2-1877412d949f",
        "outputId": "5f5932d2-9933-459b-d1c7-845ce4073d12"
      },
      "outputs": [
        {
          "data": {
            "text/plain": [
              "0     137.528754\n",
              "1     137.528754\n",
              "2     137.528754\n",
              "3     111.000000\n",
              "4     137.528754\n",
              "5     142.000000\n",
              "6     104.000000\n",
              "7     137.528754\n",
              "8     137.528754\n",
              "9     114.000000\n",
              "10    137.528754\n",
              "11    131.000000\n",
              "12    138.000000\n",
              "13    135.000000\n",
              "14    130.000000\n",
              "15    141.000000\n",
              "16    138.000000\n",
              "17    139.000000\n",
              "18    135.000000\n",
              "19    137.528754\n",
              "Name: sod, dtype: float64"
            ]
          },
          "execution_count": 159,
          "metadata": {},
          "output_type": "execute_result"
        }
      ],
      "source": [
        "ckd_df['sod'].head(20)"
      ]
    },
    {
      "cell_type": "code",
      "execution_count": null,
      "id": "036a81d0-dbd1-4e8a-8e7e-2150bedd688d",
      "metadata": {
        "id": "036a81d0-dbd1-4e8a-8e7e-2150bedd688d",
        "outputId": "87b8f0ad-4e3c-4106-f45a-6a2c311aed4d"
      },
      "outputs": [
        {
          "data": {
            "text/plain": [
              "id                  0\n",
              "age                 0\n",
              "bp                  0\n",
              "sg                  0\n",
              "al                  0\n",
              "su                  0\n",
              "rbc                 0\n",
              "pc                  0\n",
              "pcc                 0\n",
              "ba                  0\n",
              "bgr                 0\n",
              "bu                  0\n",
              "sc                  0\n",
              "sod                 0\n",
              "pot                88\n",
              "hemo               52\n",
              "pcv                70\n",
              "wc                105\n",
              "rc                130\n",
              "htn                 2\n",
              "dm                  2\n",
              "cad                 2\n",
              "appet               1\n",
              "pe                  1\n",
              "ane                 1\n",
              "classification      0\n",
              "dtype: int64"
            ]
          },
          "execution_count": 160,
          "metadata": {},
          "output_type": "execute_result"
        }
      ],
      "source": [
        "ckd_df.isna().sum()"
      ]
    },
    {
      "cell_type": "code",
      "execution_count": null,
      "id": "9ff2712a-22d9-4168-924d-9268857692d2",
      "metadata": {
        "id": "9ff2712a-22d9-4168-924d-9268857692d2",
        "outputId": "00bb6af6-f898-41c8-bbfa-b327e656be20"
      },
      "outputs": [
        {
          "name": "stdout",
          "output_type": "stream",
          "text": [
            "<class 'pandas.core.frame.DataFrame'>\n",
            "RangeIndex: 400 entries, 0 to 399\n",
            "Data columns (total 26 columns):\n",
            " #   Column          Non-Null Count  Dtype  \n",
            "---  ------          --------------  -----  \n",
            " 0   id              400 non-null    int64  \n",
            " 1   age             400 non-null    int64  \n",
            " 2   bp              400 non-null    int64  \n",
            " 3   sg              400 non-null    float64\n",
            " 4   al              400 non-null    float64\n",
            " 5   su              400 non-null    float64\n",
            " 6   rbc             400 non-null    int64  \n",
            " 7   pc              400 non-null    int64  \n",
            " 8   pcc             400 non-null    int64  \n",
            " 9   ba              400 non-null    int64  \n",
            " 10  bgr             400 non-null    float64\n",
            " 11  bu              400 non-null    float64\n",
            " 12  sc              400 non-null    float64\n",
            " 13  sod             400 non-null    float64\n",
            " 14  pot             312 non-null    float64\n",
            " 15  hemo            348 non-null    float64\n",
            " 16  pcv             330 non-null    object \n",
            " 17  wc              295 non-null    object \n",
            " 18  rc              270 non-null    object \n",
            " 19  htn             398 non-null    object \n",
            " 20  dm              398 non-null    object \n",
            " 21  cad             398 non-null    object \n",
            " 22  appet           399 non-null    object \n",
            " 23  pe              399 non-null    object \n",
            " 24  ane             399 non-null    object \n",
            " 25  classification  400 non-null    object \n",
            "dtypes: float64(9), int64(7), object(10)\n",
            "memory usage: 81.4+ KB\n"
          ]
        }
      ],
      "source": [
        "ckd_df.info()"
      ]
    },
    {
      "cell_type": "code",
      "execution_count": null,
      "id": "f6d95184-46a8-459b-a3ac-4cd42f1b833a",
      "metadata": {
        "id": "f6d95184-46a8-459b-a3ac-4cd42f1b833a",
        "outputId": "06c9128a-36ab-477a-977f-0c0b4eac6797"
      },
      "outputs": [
        {
          "data": {
            "text/plain": [
              "array([ nan,  2.5,  3.2,  4. ,  3.7,  4.2,  5.8,  3.4,  6.4,  4.9,  4.1,\n",
              "        4.3,  5.2,  3.8,  4.6,  3.9,  4.7,  5.9,  4.8,  4.4,  6.6, 39. ,\n",
              "        5.5,  5. ,  3.5,  3.6,  7.6,  2.9,  4.5,  5.7,  5.4,  5.3, 47. ,\n",
              "        6.3,  5.1,  5.6,  3. ,  2.8,  2.7,  6.5,  3.3])"
            ]
          },
          "execution_count": 162,
          "metadata": {},
          "output_type": "execute_result"
        }
      ],
      "source": [
        "ckd_df['pot'].unique()"
      ]
    },
    {
      "cell_type": "code",
      "execution_count": null,
      "id": "38382f5c-23e7-4c33-84a1-8d97f807f8a4",
      "metadata": {
        "id": "38382f5c-23e7-4c33-84a1-8d97f807f8a4"
      },
      "outputs": [],
      "source": [
        "ckd_df['pot'] = ckd_df['pot'].fillna(ckd_df['pot'].mean())"
      ]
    },
    {
      "cell_type": "code",
      "execution_count": null,
      "id": "6435b5e0-0cc2-4aaa-be7e-28b7638648ad",
      "metadata": {
        "id": "6435b5e0-0cc2-4aaa-be7e-28b7638648ad"
      },
      "outputs": [],
      "source": [
        "ckd_df['pot'] = ckd_df['pot']"
      ]
    },
    {
      "cell_type": "code",
      "execution_count": null,
      "id": "1eb37587-c67f-47f7-b98f-9a4b9115bd83",
      "metadata": {
        "id": "1eb37587-c67f-47f7-b98f-9a4b9115bd83",
        "outputId": "26ca06ec-5823-4489-8f47-d5886a691e25"
      },
      "outputs": [
        {
          "data": {
            "text/plain": [
              "0     4.627244\n",
              "1     4.627244\n",
              "2     4.627244\n",
              "3     2.500000\n",
              "4     4.627244\n",
              "5     3.200000\n",
              "6     4.000000\n",
              "7     4.627244\n",
              "8     4.627244\n",
              "9     3.700000\n",
              "10    4.627244\n",
              "11    4.200000\n",
              "12    5.800000\n",
              "13    3.400000\n",
              "14    6.400000\n",
              "15    4.900000\n",
              "16    4.100000\n",
              "17    3.700000\n",
              "18    4.300000\n",
              "19    4.627244\n",
              "Name: pot, dtype: float64"
            ]
          },
          "execution_count": 165,
          "metadata": {},
          "output_type": "execute_result"
        }
      ],
      "source": [
        "ckd_df['pot'].head(20)"
      ]
    },
    {
      "cell_type": "code",
      "execution_count": null,
      "id": "63f4d5d6-b2e5-4718-8c73-f37f54108bc1",
      "metadata": {
        "id": "63f4d5d6-b2e5-4718-8c73-f37f54108bc1",
        "outputId": "8b679c8e-324d-4d9e-c7ca-d07d39657e1d"
      },
      "outputs": [
        {
          "data": {
            "text/plain": [
              "id                  0\n",
              "age                 0\n",
              "bp                  0\n",
              "sg                  0\n",
              "al                  0\n",
              "su                  0\n",
              "rbc                 0\n",
              "pc                  0\n",
              "pcc                 0\n",
              "ba                  0\n",
              "bgr                 0\n",
              "bu                  0\n",
              "sc                  0\n",
              "sod                 0\n",
              "pot                 0\n",
              "hemo               52\n",
              "pcv                70\n",
              "wc                105\n",
              "rc                130\n",
              "htn                 2\n",
              "dm                  2\n",
              "cad                 2\n",
              "appet               1\n",
              "pe                  1\n",
              "ane                 1\n",
              "classification      0\n",
              "dtype: int64"
            ]
          },
          "execution_count": 166,
          "metadata": {},
          "output_type": "execute_result"
        }
      ],
      "source": [
        "ckd_df.isna().sum()"
      ]
    },
    {
      "cell_type": "code",
      "execution_count": null,
      "id": "605ce57e-0a0d-4ba5-a401-13ef43e1b935",
      "metadata": {
        "id": "605ce57e-0a0d-4ba5-a401-13ef43e1b935",
        "outputId": "ada5950c-e500-496f-e375-42353fa18354"
      },
      "outputs": [
        {
          "name": "stdout",
          "output_type": "stream",
          "text": [
            "<class 'pandas.core.frame.DataFrame'>\n",
            "RangeIndex: 400 entries, 0 to 399\n",
            "Data columns (total 26 columns):\n",
            " #   Column          Non-Null Count  Dtype  \n",
            "---  ------          --------------  -----  \n",
            " 0   id              400 non-null    int64  \n",
            " 1   age             400 non-null    int64  \n",
            " 2   bp              400 non-null    int64  \n",
            " 3   sg              400 non-null    float64\n",
            " 4   al              400 non-null    float64\n",
            " 5   su              400 non-null    float64\n",
            " 6   rbc             400 non-null    int64  \n",
            " 7   pc              400 non-null    int64  \n",
            " 8   pcc             400 non-null    int64  \n",
            " 9   ba              400 non-null    int64  \n",
            " 10  bgr             400 non-null    float64\n",
            " 11  bu              400 non-null    float64\n",
            " 12  sc              400 non-null    float64\n",
            " 13  sod             400 non-null    float64\n",
            " 14  pot             400 non-null    float64\n",
            " 15  hemo            348 non-null    float64\n",
            " 16  pcv             330 non-null    object \n",
            " 17  wc              295 non-null    object \n",
            " 18  rc              270 non-null    object \n",
            " 19  htn             398 non-null    object \n",
            " 20  dm              398 non-null    object \n",
            " 21  cad             398 non-null    object \n",
            " 22  appet           399 non-null    object \n",
            " 23  pe              399 non-null    object \n",
            " 24  ane             399 non-null    object \n",
            " 25  classification  400 non-null    object \n",
            "dtypes: float64(9), int64(7), object(10)\n",
            "memory usage: 81.4+ KB\n"
          ]
        }
      ],
      "source": [
        "ckd_df.info()"
      ]
    },
    {
      "cell_type": "code",
      "execution_count": null,
      "id": "b78b4429-d2c5-4778-b11b-dae70e1b277d",
      "metadata": {
        "id": "b78b4429-d2c5-4778-b11b-dae70e1b277d",
        "outputId": "5e3896a1-6dd5-40b3-eec9-68236f964929"
      },
      "outputs": [
        {
          "data": {
            "text/plain": [
              "array([15.4, 11.3,  9.6, 11.2, 11.6, 12.2, 12.4, 10.8,  9.5,  9.4,  9.7,\n",
              "        9.8,  5.6,  7.6, 12.6, 12.1, 12.7, 10.3,  7.7, 10.9,  nan, 11.1,\n",
              "        9.9, 12.5, 12.9, 10.1, 12. , 13. ,  7.9,  9.3, 15. , 10. ,  8.6,\n",
              "       13.6, 10.2, 10.5,  6.6, 11. ,  7.5, 15.6, 15.2,  4.8,  9.1,  8.1,\n",
              "       11.9, 13.5,  8.3,  7.1, 16.1, 10.4,  9.2,  6.2, 13.9, 14.1,  6. ,\n",
              "       11.8, 11.7, 11.4, 14. ,  8.2, 13.2,  6.1,  8. , 12.3,  8.4, 14.3,\n",
              "        9. ,  8.7, 10.6, 13.1, 10.7,  5.5,  5.8,  6.8,  8.8,  8.5, 13.8,\n",
              "       11.5,  7.3, 13.7, 12.8, 13.4,  6.3,  3.1, 17. , 15.9, 14.5, 15.5,\n",
              "       16.2, 14.4, 14.2, 16.3, 14.8, 16.5, 15.7, 13.3, 14.6, 16.4, 16.9,\n",
              "       16. , 14.7, 16.6, 14.9, 16.7, 16.8, 15.8, 15.1, 17.1, 17.2, 15.3,\n",
              "       17.3, 17.4, 17.7, 17.8, 17.5, 17.6])"
            ]
          },
          "execution_count": 168,
          "metadata": {},
          "output_type": "execute_result"
        }
      ],
      "source": [
        "ckd_df['hemo'].unique()"
      ]
    },
    {
      "cell_type": "code",
      "execution_count": null,
      "id": "6b57a69a-2b63-4efd-a705-edcb91eb1a26",
      "metadata": {
        "id": "6b57a69a-2b63-4efd-a705-edcb91eb1a26"
      },
      "outputs": [],
      "source": [
        "ckd_df['hemo'] = ckd_df['hemo'].fillna(ckd_df['hemo'].mean())"
      ]
    },
    {
      "cell_type": "code",
      "execution_count": null,
      "id": "5cb1f0e5-48b8-4003-a2ad-e176227d143e",
      "metadata": {
        "id": "5cb1f0e5-48b8-4003-a2ad-e176227d143e"
      },
      "outputs": [],
      "source": [
        "ckd_df['hemo'] = ckd_df['hemo']"
      ]
    },
    {
      "cell_type": "code",
      "execution_count": null,
      "id": "1975389b-761d-4003-849f-5251f1405ba9",
      "metadata": {
        "id": "1975389b-761d-4003-849f-5251f1405ba9",
        "outputId": "213b7221-f0e2-4628-9155-8f42c98cb8ad"
      },
      "outputs": [
        {
          "data": {
            "text/plain": [
              "0     15.4\n",
              "1     11.3\n",
              "2      9.6\n",
              "3     11.2\n",
              "4     11.6\n",
              "5     12.2\n",
              "6     12.4\n",
              "7     12.4\n",
              "8     10.8\n",
              "9      9.5\n",
              "10     9.4\n",
              "11    10.8\n",
              "12     9.7\n",
              "13     9.8\n",
              "14     5.6\n",
              "15     7.6\n",
              "16    12.6\n",
              "17    12.1\n",
              "18    12.7\n",
              "19    10.3\n",
              "Name: hemo, dtype: float64"
            ]
          },
          "execution_count": 171,
          "metadata": {},
          "output_type": "execute_result"
        }
      ],
      "source": [
        "ckd_df['hemo'].head(20)"
      ]
    },
    {
      "cell_type": "code",
      "execution_count": null,
      "id": "142eadd4-4a5e-4ef1-8f54-2a49f2e91270",
      "metadata": {
        "id": "142eadd4-4a5e-4ef1-8f54-2a49f2e91270",
        "outputId": "24950e9e-c45e-480c-e567-3e8688040455"
      },
      "outputs": [
        {
          "data": {
            "text/plain": [
              "id                  0\n",
              "age                 0\n",
              "bp                  0\n",
              "sg                  0\n",
              "al                  0\n",
              "su                  0\n",
              "rbc                 0\n",
              "pc                  0\n",
              "pcc                 0\n",
              "ba                  0\n",
              "bgr                 0\n",
              "bu                  0\n",
              "sc                  0\n",
              "sod                 0\n",
              "pot                 0\n",
              "hemo                0\n",
              "pcv                70\n",
              "wc                105\n",
              "rc                130\n",
              "htn                 2\n",
              "dm                  2\n",
              "cad                 2\n",
              "appet               1\n",
              "pe                  1\n",
              "ane                 1\n",
              "classification      0\n",
              "dtype: int64"
            ]
          },
          "execution_count": 172,
          "metadata": {},
          "output_type": "execute_result"
        }
      ],
      "source": [
        "ckd_df.isna().sum()"
      ]
    },
    {
      "cell_type": "code",
      "execution_count": null,
      "id": "e7ea4a68-789c-4591-bfb9-7d6a58822feb",
      "metadata": {
        "id": "e7ea4a68-789c-4591-bfb9-7d6a58822feb",
        "outputId": "4fda9f6d-0e8d-4501-c7fd-004090591f25"
      },
      "outputs": [
        {
          "name": "stdout",
          "output_type": "stream",
          "text": [
            "<class 'pandas.core.frame.DataFrame'>\n",
            "RangeIndex: 400 entries, 0 to 399\n",
            "Data columns (total 26 columns):\n",
            " #   Column          Non-Null Count  Dtype  \n",
            "---  ------          --------------  -----  \n",
            " 0   id              400 non-null    int64  \n",
            " 1   age             400 non-null    int64  \n",
            " 2   bp              400 non-null    int64  \n",
            " 3   sg              400 non-null    float64\n",
            " 4   al              400 non-null    float64\n",
            " 5   su              400 non-null    float64\n",
            " 6   rbc             400 non-null    int64  \n",
            " 7   pc              400 non-null    int64  \n",
            " 8   pcc             400 non-null    int64  \n",
            " 9   ba              400 non-null    int64  \n",
            " 10  bgr             400 non-null    float64\n",
            " 11  bu              400 non-null    float64\n",
            " 12  sc              400 non-null    float64\n",
            " 13  sod             400 non-null    float64\n",
            " 14  pot             400 non-null    float64\n",
            " 15  hemo            400 non-null    float64\n",
            " 16  pcv             330 non-null    object \n",
            " 17  wc              295 non-null    object \n",
            " 18  rc              270 non-null    object \n",
            " 19  htn             398 non-null    object \n",
            " 20  dm              398 non-null    object \n",
            " 21  cad             398 non-null    object \n",
            " 22  appet           399 non-null    object \n",
            " 23  pe              399 non-null    object \n",
            " 24  ane             399 non-null    object \n",
            " 25  classification  400 non-null    object \n",
            "dtypes: float64(9), int64(7), object(10)\n",
            "memory usage: 81.4+ KB\n"
          ]
        }
      ],
      "source": [
        "ckd_df.info()"
      ]
    },
    {
      "cell_type": "code",
      "execution_count": null,
      "id": "08f64062-8aa0-4f8c-9555-95a2ceeed756",
      "metadata": {
        "id": "08f64062-8aa0-4f8c-9555-95a2ceeed756",
        "outputId": "69fda9be-8374-46b8-bb01-aefc652b8f69"
      },
      "outputs": [
        {
          "data": {
            "text/plain": [
              "array(['44', '38', '31', '32', '35', '39', '36', '33', '29', '28', nan,\n",
              "       '16', '24', '37', '30', '34', '40', '45', '27', '48', '\\t?', '52',\n",
              "       '14', '22', '18', '42', '17', '46', '23', '19', '25', '41', '26',\n",
              "       '15', '21', '43', '20', '\\t43', '47', '9', '49', '50', '53', '51',\n",
              "       '54'], dtype=object)"
            ]
          },
          "execution_count": 174,
          "metadata": {},
          "output_type": "execute_result"
        }
      ],
      "source": [
        "ckd_df['pcv'].unique()"
      ]
    },
    {
      "cell_type": "code",
      "execution_count": null,
      "id": "360d512e-5a5c-49a2-b8bd-baabecb6a823",
      "metadata": {
        "id": "360d512e-5a5c-49a2-b8bd-baabecb6a823"
      },
      "outputs": [],
      "source": [
        "#Clean the data by replacing unwanted characters and values, Replace '\\t?' with NaN\n",
        "ckd_df['pcv'] = ckd_df['pcv'].replace({'\\t?':np.nan, '\\t43':np.nan})"
      ]
    },
    {
      "cell_type": "code",
      "execution_count": null,
      "id": "b45b7076-dc93-42bb-a758-ecd36d5c54c8",
      "metadata": {
        "id": "b45b7076-dc93-42bb-a758-ecd36d5c54c8",
        "outputId": "30650577-48fb-4a03-cb7e-7778a5c1569a"
      },
      "outputs": [
        {
          "name": "stdout",
          "output_type": "stream",
          "text": [
            "['44' '38' '31' '32' '35' '39' '36' '33' '29' '28' nan '16' '24' '37' '30'\n",
            " '34' '40' '45' '27' '48' '52' '14' '22' '18' '42' '17' '46' '23' '19'\n",
            " '25' '41' '26' '15' '21' '43' '20' '47' '9' '49' '50' '53' '51' '54']\n",
            "object\n"
          ]
        }
      ],
      "source": [
        "print(ckd_df['pcv'].unique())\n",
        "print(ckd_df['pcv'].dtype)"
      ]
    },
    {
      "cell_type": "code",
      "execution_count": null,
      "id": "dc384406-2e90-486e-9821-b6cebd9d45b0",
      "metadata": {
        "id": "dc384406-2e90-486e-9821-b6cebd9d45b0"
      },
      "outputs": [],
      "source": [
        "#converting to numeric\n",
        "ckd_df['pcv'] = pd.to_numeric(ckd_df['pcv'], errors='coerce')"
      ]
    },
    {
      "cell_type": "code",
      "execution_count": null,
      "id": "ca307393-cfcc-47fb-a293-7e617a89f7ee",
      "metadata": {
        "id": "ca307393-cfcc-47fb-a293-7e617a89f7ee"
      },
      "outputs": [],
      "source": [
        "#fill NaN values with mean of the column\n",
        "ckd_df['pcv'] = ckd_df['pcv'].fillna(ckd_df['pcv'].mean())"
      ]
    },
    {
      "cell_type": "code",
      "execution_count": null,
      "id": "567a9075-f569-4342-babd-2827bbf79651",
      "metadata": {
        "id": "567a9075-f569-4342-babd-2827bbf79651"
      },
      "outputs": [],
      "source": [
        "#Convert the column to integers\n",
        "ckd_df['pcv'] = ckd_df['pcv'].astype(int)"
      ]
    },
    {
      "cell_type": "code",
      "execution_count": null,
      "id": "b1e91062-7868-49db-b1cb-de7d9ddb8b0b",
      "metadata": {
        "id": "b1e91062-7868-49db-b1cb-de7d9ddb8b0b",
        "outputId": "90589157-3d5b-42cf-b2df-c4abce74a458"
      },
      "outputs": [
        {
          "data": {
            "text/plain": [
              "array([44, 38, 31, 32, 35, 39, 36, 33, 29, 28, 16, 24, 37, 30, 34, 40, 45,\n",
              "       27, 48, 52, 14, 22, 18, 42, 17, 46, 23, 19, 25, 41, 26, 15, 21, 43,\n",
              "       20, 47,  9, 49, 50, 53, 51, 54])"
            ]
          },
          "execution_count": 180,
          "metadata": {},
          "output_type": "execute_result"
        }
      ],
      "source": [
        "# Check the unique values and data type\n",
        "ckd_df['pcv'].unique()"
      ]
    },
    {
      "cell_type": "code",
      "execution_count": null,
      "id": "2573f8b6-e24b-4df8-854b-22fd6c41fa0e",
      "metadata": {
        "id": "2573f8b6-e24b-4df8-854b-22fd6c41fa0e",
        "outputId": "9eae2db3-7715-49f8-e76a-3fc666b8d1d3"
      },
      "outputs": [
        {
          "data": {
            "text/plain": [
              "0"
            ]
          },
          "execution_count": 181,
          "metadata": {},
          "output_type": "execute_result"
        }
      ],
      "source": [
        "ckd_df['pcv'].isnull().sum()"
      ]
    },
    {
      "cell_type": "code",
      "execution_count": null,
      "id": "e7abccba-f7bd-451c-8498-6cc150a4dfd7",
      "metadata": {
        "id": "e7abccba-f7bd-451c-8498-6cc150a4dfd7",
        "outputId": "951d9ada-8e81-4d75-8d89-c8a4b9e99078"
      },
      "outputs": [
        {
          "data": {
            "text/plain": [
              "dtype('int64')"
            ]
          },
          "execution_count": 182,
          "metadata": {},
          "output_type": "execute_result"
        }
      ],
      "source": [
        "ckd_df['pcv'].dtype"
      ]
    },
    {
      "cell_type": "code",
      "execution_count": null,
      "id": "4732abf9-1b27-4cad-85eb-b88cd5b60373",
      "metadata": {
        "id": "4732abf9-1b27-4cad-85eb-b88cd5b60373",
        "outputId": "3039989f-6eff-4b2a-9431-d9c36f6c128a"
      },
      "outputs": [
        {
          "data": {
            "text/plain": [
              "dtype('O')"
            ]
          },
          "execution_count": 183,
          "metadata": {},
          "output_type": "execute_result"
        }
      ],
      "source": [
        "ckd_df['wc'].dtype"
      ]
    },
    {
      "cell_type": "code",
      "execution_count": null,
      "id": "28e92560-3207-42fc-9372-88f84bb6103d",
      "metadata": {
        "id": "28e92560-3207-42fc-9372-88f84bb6103d",
        "outputId": "ab689c65-5ca4-49eb-ebfe-d728ef4e17f1"
      },
      "outputs": [
        {
          "data": {
            "text/plain": [
              "array(['7800', '6000', '7500', '6700', '7300', nan, '6900', '9600',\n",
              "       '12100', '4500', '12200', '11000', '3800', '11400', '5300', '9200',\n",
              "       '6200', '8300', '8400', '10300', '9800', '9100', '7900', '6400',\n",
              "       '8600', '18900', '21600', '4300', '8500', '11300', '7200', '7700',\n",
              "       '14600', '6300', '\\t6200', '7100', '11800', '9400', '5500', '5800',\n",
              "       '13200', '12500', '5600', '7000', '11900', '10400', '10700',\n",
              "       '12700', '6800', '6500', '13600', '10200', '9000', '14900', '8200',\n",
              "       '15200', '5000', '16300', '12400', '\\t8400', '10500', '4200',\n",
              "       '4700', '10900', '8100', '9500', '2200', '12800', '11200', '19100',\n",
              "       '\\t?', '12300', '16700', '2600', '26400', '8800', '7400', '4900',\n",
              "       '8000', '12000', '15700', '4100', '5700', '11500', '5400', '10800',\n",
              "       '9900', '5200', '5900', '9300', '9700', '5100', '6600'],\n",
              "      dtype=object)"
            ]
          },
          "execution_count": 184,
          "metadata": {},
          "output_type": "execute_result"
        }
      ],
      "source": [
        "ckd_df['wc'].unique()"
      ]
    },
    {
      "cell_type": "code",
      "execution_count": null,
      "id": "1b03efb5-bcca-4e46-a37b-ee33bdd9d741",
      "metadata": {
        "id": "1b03efb5-bcca-4e46-a37b-ee33bdd9d741"
      },
      "outputs": [],
      "source": [
        "ckd_df['wc'] = ckd_df['wc'].replace({'\\t':np.nan})"
      ]
    },
    {
      "cell_type": "code",
      "execution_count": null,
      "id": "4ce5b504-5879-43cf-9003-5904c3fdfdc8",
      "metadata": {
        "id": "4ce5b504-5879-43cf-9003-5904c3fdfdc8"
      },
      "outputs": [],
      "source": [
        "ckd_df['wc'] = pd.to_numeric(ckd_df['wc'],errors = 'coerce')"
      ]
    },
    {
      "cell_type": "code",
      "execution_count": null,
      "id": "61865267-de68-4f11-a02b-6ef882e05dac",
      "metadata": {
        "id": "61865267-de68-4f11-a02b-6ef882e05dac"
      },
      "outputs": [],
      "source": [
        "ckd_df['wc'] = ckd_df['wc'].fillna(ckd_df['wc'].mean())"
      ]
    },
    {
      "cell_type": "code",
      "execution_count": null,
      "id": "2d5004f0-6f24-413a-a608-ebe6fefa52fb",
      "metadata": {
        "id": "2d5004f0-6f24-413a-a608-ebe6fefa52fb"
      },
      "outputs": [],
      "source": [
        "ckd_df['wc'] = ckd_df['wc'].astype(int)"
      ]
    },
    {
      "cell_type": "code",
      "execution_count": null,
      "id": "90400c75-7795-4b69-935c-2d6e12e2b1fa",
      "metadata": {
        "id": "90400c75-7795-4b69-935c-2d6e12e2b1fa",
        "outputId": "70ae67e2-9129-494e-e9b1-6c89cae9ff19"
      },
      "outputs": [
        {
          "data": {
            "text/plain": [
              "array([ 7800,  6000,  7500,  6700,  7300,  8406,  6900,  9600, 12100,\n",
              "        4500, 12200, 11000,  3800, 11400,  5300,  9200,  6200,  8300,\n",
              "        8400, 10300,  9800,  9100,  7900,  6400,  8600, 18900, 21600,\n",
              "        4300,  8500, 11300,  7200,  7700, 14600,  6300,  7100, 11800,\n",
              "        9400,  5500,  5800, 13200, 12500,  5600,  7000, 11900, 10400,\n",
              "       10700, 12700,  6800,  6500, 13600, 10200,  9000, 14900,  8200,\n",
              "       15200,  5000, 16300, 12400, 10500,  4200,  4700, 10900,  8100,\n",
              "        9500,  2200, 12800, 11200, 19100, 12300, 16700,  2600, 26400,\n",
              "        8800,  7400,  4900,  8000, 12000, 15700,  4100,  5700, 11500,\n",
              "        5400, 10800,  9900,  5200,  5900,  9300,  9700,  5100,  6600])"
            ]
          },
          "execution_count": 189,
          "metadata": {},
          "output_type": "execute_result"
        }
      ],
      "source": [
        "ckd_df['wc'].unique()"
      ]
    },
    {
      "cell_type": "code",
      "execution_count": null,
      "id": "84661d7a-99f5-4f03-a3c5-3805447c3de7",
      "metadata": {
        "id": "84661d7a-99f5-4f03-a3c5-3805447c3de7",
        "outputId": "2b0809a9-c7c8-4d18-ecbb-92872264c95d"
      },
      "outputs": [
        {
          "data": {
            "text/plain": [
              "dtype('int64')"
            ]
          },
          "execution_count": 190,
          "metadata": {},
          "output_type": "execute_result"
        }
      ],
      "source": [
        "ckd_df['wc'].dtype"
      ]
    },
    {
      "cell_type": "code",
      "execution_count": null,
      "id": "02782435-fd9e-4a51-ade4-6aa2267d8c38",
      "metadata": {
        "id": "02782435-fd9e-4a51-ade4-6aa2267d8c38",
        "outputId": "2475d600-e4f4-4484-8b37-529dab52634e"
      },
      "outputs": [
        {
          "data": {
            "text/plain": [
              "array(['5.2', nan, '3.9', '4.6', '4.4', '5', '4.0', '3.7', '3.8', '3.4',\n",
              "       '2.6', '2.8', '4.3', '3.2', '3.6', '4', '4.1', '4.9', '2.5', '4.2',\n",
              "       '4.5', '3.1', '4.7', '3.5', '6.0', '5.0', '2.1', '5.6', '2.3',\n",
              "       '2.9', '2.7', '8.0', '3.3', '3.0', '3', '2.4', '4.8', '\\t?', '5.4',\n",
              "       '6.1', '6.2', '6.3', '5.1', '5.8', '5.5', '5.3', '6.4', '5.7',\n",
              "       '5.9', '6.5'], dtype=object)"
            ]
          },
          "execution_count": 191,
          "metadata": {},
          "output_type": "execute_result"
        }
      ],
      "source": [
        "ckd_df['rc'].unique()"
      ]
    },
    {
      "cell_type": "code",
      "execution_count": null,
      "id": "7b7ebe8f-52ff-41e6-9d08-bba8e73f69ec",
      "metadata": {
        "id": "7b7ebe8f-52ff-41e6-9d08-bba8e73f69ec"
      },
      "outputs": [],
      "source": [
        "ckd_df['rc'] = ckd_df['rc'].replace({'\\t':np.nan})"
      ]
    },
    {
      "cell_type": "code",
      "execution_count": null,
      "id": "d3f747c6-3385-412e-9997-26d3afb22042",
      "metadata": {
        "id": "d3f747c6-3385-412e-9997-26d3afb22042"
      },
      "outputs": [],
      "source": [
        "ckd_df['rc'] = pd.to_numeric(ckd_df['rc'], errors = 'coerce')"
      ]
    },
    {
      "cell_type": "code",
      "execution_count": null,
      "id": "0dd33386-2d2b-420b-8100-8311df56a081",
      "metadata": {
        "id": "0dd33386-2d2b-420b-8100-8311df56a081"
      },
      "outputs": [],
      "source": [
        "ckd_df['rc'] = ckd_df['rc'].fillna(ckd_df['rc'].mean())"
      ]
    },
    {
      "cell_type": "code",
      "execution_count": null,
      "id": "6bba7eba-67b4-4fc4-824d-ca00aafe81fe",
      "metadata": {
        "id": "6bba7eba-67b4-4fc4-824d-ca00aafe81fe",
        "outputId": "a0cf9b05-0383-4cc5-b0e0-faf0031d4d3a"
      },
      "outputs": [
        {
          "data": {
            "text/plain": [
              "<bound method Series.unique of 0      5.200000\n",
              "1      4.707435\n",
              "2      4.707435\n",
              "3      3.900000\n",
              "4      4.600000\n",
              "         ...   \n",
              "395    4.900000\n",
              "396    6.200000\n",
              "397    5.400000\n",
              "398    5.900000\n",
              "399    6.100000\n",
              "Name: rc, Length: 400, dtype: float64>"
            ]
          },
          "execution_count": 195,
          "metadata": {},
          "output_type": "execute_result"
        }
      ],
      "source": [
        "ckd_df['rc'].unique"
      ]
    },
    {
      "cell_type": "code",
      "execution_count": null,
      "id": "9fba6c3f-3d49-4037-95e8-fb1db9d2611e",
      "metadata": {
        "id": "9fba6c3f-3d49-4037-95e8-fb1db9d2611e",
        "outputId": "6323f8af-c5cb-4319-a19b-9a6773ffdee7"
      },
      "outputs": [
        {
          "data": {
            "text/plain": [
              "0"
            ]
          },
          "execution_count": 196,
          "metadata": {},
          "output_type": "execute_result"
        }
      ],
      "source": [
        "ckd_df['rc'].isnull().sum()"
      ]
    },
    {
      "cell_type": "code",
      "execution_count": null,
      "id": "1ab8f73e-3f4b-464c-a447-eafa0e6d8adb",
      "metadata": {
        "id": "1ab8f73e-3f4b-464c-a447-eafa0e6d8adb",
        "outputId": "62cb730c-b661-4a34-8144-da9e8c676f83"
      },
      "outputs": [
        {
          "data": {
            "text/plain": [
              "array(['yes', 'no', nan], dtype=object)"
            ]
          },
          "execution_count": 197,
          "metadata": {},
          "output_type": "execute_result"
        }
      ],
      "source": [
        "ckd_df['htn'].unique()"
      ]
    },
    {
      "cell_type": "code",
      "execution_count": null,
      "id": "fa957994-4fe5-4469-b382-619a1fe21785",
      "metadata": {
        "id": "fa957994-4fe5-4469-b382-619a1fe21785",
        "outputId": "821de531-1e35-4ef7-9bb6-78a3a24dc18a"
      },
      "outputs": [
        {
          "name": "stderr",
          "output_type": "stream",
          "text": [
            "/var/folders/yq/qpl7yv6s50nbrkmm26bmqfyc0000gn/T/ipykernel_31633/1960119990.py:1: FutureWarning: Downcasting behavior in `replace` is deprecated and will be removed in a future version. To retain the old behavior, explicitly call `result.infer_objects(copy=False)`. To opt-in to the future behavior, set `pd.set_option('future.no_silent_downcasting', True)`\n",
            "  ckd_df['htn'] = ckd_df['htn'].replace({'yes': 2, 'no': 1, np.nan: 0}).astype(int)\n"
          ]
        },
        {
          "data": {
            "text/plain": [
              "0      2\n",
              "1      1\n",
              "2      1\n",
              "3      2\n",
              "4      1\n",
              "      ..\n",
              "395    1\n",
              "396    1\n",
              "397    1\n",
              "398    1\n",
              "399    1\n",
              "Name: htn, Length: 400, dtype: int64"
            ]
          },
          "execution_count": 198,
          "metadata": {},
          "output_type": "execute_result"
        }
      ],
      "source": [
        "ckd_df['htn'] = ckd_df['htn'].replace({'yes': 2, 'no': 1, np.nan: 0}).astype(int)\n",
        "ckd_df['htn']"
      ]
    },
    {
      "cell_type": "code",
      "execution_count": null,
      "id": "763c0a20-cb19-4b2b-a84b-c84f23f39403",
      "metadata": {
        "id": "763c0a20-cb19-4b2b-a84b-c84f23f39403",
        "outputId": "7aa815d6-1a79-4a81-9d02-3dd55089f02d"
      },
      "outputs": [
        {
          "data": {
            "text/plain": [
              "array([2, 1, 0])"
            ]
          },
          "execution_count": 199,
          "metadata": {},
          "output_type": "execute_result"
        }
      ],
      "source": [
        "ckd_df['htn'].unique()"
      ]
    },
    {
      "cell_type": "code",
      "execution_count": null,
      "id": "40efbaac-66ea-4ba7-a8bf-e67763f9cd19",
      "metadata": {
        "id": "40efbaac-66ea-4ba7-a8bf-e67763f9cd19",
        "outputId": "764542fa-edcf-4606-d213-8a228599443c"
      },
      "outputs": [
        {
          "data": {
            "text/plain": [
              "array(['yes', 'no', ' yes', '\\tno', '\\tyes', nan], dtype=object)"
            ]
          },
          "execution_count": 200,
          "metadata": {},
          "output_type": "execute_result"
        }
      ],
      "source": [
        "ckd_df['dm'].unique()"
      ]
    },
    {
      "cell_type": "code",
      "execution_count": null,
      "id": "dd485bea-63b8-40ec-b9f4-fda1f0f6fdba",
      "metadata": {
        "id": "dd485bea-63b8-40ec-b9f4-fda1f0f6fdba",
        "outputId": "df080f5a-1cb0-44c3-a043-11485ad7af46"
      },
      "outputs": [
        {
          "name": "stderr",
          "output_type": "stream",
          "text": [
            "/var/folders/yq/qpl7yv6s50nbrkmm26bmqfyc0000gn/T/ipykernel_31633/1963089543.py:1: FutureWarning: A value is trying to be set on a copy of a DataFrame or Series through chained assignment using an inplace method.\n",
            "The behavior will change in pandas 3.0. This inplace method will never work because the intermediate object on which we are setting values always behaves as a copy.\n",
            "\n",
            "For example, when doing 'df[col].method(value, inplace=True)', try using 'df.method({col: value}, inplace=True)' or df[col] = df[col].method(value) instead, to perform the operation inplace on the original object.\n",
            "\n",
            "\n",
            "  ckd_df['dm'].replace(to_replace = {'\\tno':'no','\\tyes':'yes',' yes':'yes'},inplace=True)\n"
          ]
        }
      ],
      "source": [
        "ckd_df['dm'].replace(to_replace = {'\\tno':'no','\\tyes':'yes',' yes':'yes'},inplace=True)"
      ]
    },
    {
      "cell_type": "code",
      "execution_count": null,
      "id": "80f9df4c-9c86-430d-b80d-1a9ada0da967",
      "metadata": {
        "id": "80f9df4c-9c86-430d-b80d-1a9ada0da967",
        "outputId": "45b9d3df-38d0-4410-f28d-9fa262292ad5"
      },
      "outputs": [
        {
          "name": "stderr",
          "output_type": "stream",
          "text": [
            "/var/folders/yq/qpl7yv6s50nbrkmm26bmqfyc0000gn/T/ipykernel_31633/3362150606.py:1: FutureWarning: Downcasting behavior in `replace` is deprecated and will be removed in a future version. To retain the old behavior, explicitly call `result.infer_objects(copy=False)`. To opt-in to the future behavior, set `pd.set_option('future.no_silent_downcasting', True)`\n",
            "  ckd_df['dm'] = ckd_df['dm'].replace({'yes': 2, 'no': 1, np.nan: 0}).astype(int)\n"
          ]
        },
        {
          "data": {
            "text/plain": [
              "0      2\n",
              "1      1\n",
              "2      2\n",
              "3      1\n",
              "4      1\n",
              "      ..\n",
              "395    1\n",
              "396    1\n",
              "397    1\n",
              "398    1\n",
              "399    1\n",
              "Name: dm, Length: 400, dtype: int64"
            ]
          },
          "execution_count": 202,
          "metadata": {},
          "output_type": "execute_result"
        }
      ],
      "source": [
        "ckd_df['dm'] = ckd_df['dm'].replace({'yes': 2, 'no': 1, np.nan: 0}).astype(int)\n",
        "ckd_df['dm']"
      ]
    },
    {
      "cell_type": "code",
      "execution_count": null,
      "id": "914f47ee-80b8-451f-ad41-773a10dfd597",
      "metadata": {
        "id": "914f47ee-80b8-451f-ad41-773a10dfd597",
        "outputId": "7af3406f-995f-42ee-faf4-f30b51481e9e"
      },
      "outputs": [
        {
          "data": {
            "text/plain": [
              "array([2, 1, 0])"
            ]
          },
          "execution_count": 203,
          "metadata": {},
          "output_type": "execute_result"
        }
      ],
      "source": [
        "ckd_df['dm'].unique()"
      ]
    },
    {
      "cell_type": "code",
      "execution_count": null,
      "id": "e78010d3-bdcc-43ee-98d8-fc8fbe58c3b1",
      "metadata": {
        "id": "e78010d3-bdcc-43ee-98d8-fc8fbe58c3b1",
        "outputId": "a5382ce0-33e0-4520-f37a-806b6786cc75"
      },
      "outputs": [
        {
          "data": {
            "text/plain": [
              "array(['no', 'yes', '\\tno', nan], dtype=object)"
            ]
          },
          "execution_count": 204,
          "metadata": {},
          "output_type": "execute_result"
        }
      ],
      "source": [
        "ckd_df['cad'].unique()"
      ]
    },
    {
      "cell_type": "code",
      "execution_count": null,
      "id": "471b42ba-2855-43a4-b16b-f67a7ad5fe9d",
      "metadata": {
        "id": "471b42ba-2855-43a4-b16b-f67a7ad5fe9d",
        "outputId": "0cee8d55-ac6e-48cd-d2dc-75c5b337f101"
      },
      "outputs": [
        {
          "name": "stderr",
          "output_type": "stream",
          "text": [
            "/var/folders/yq/qpl7yv6s50nbrkmm26bmqfyc0000gn/T/ipykernel_31633/503181104.py:1: FutureWarning: A value is trying to be set on a copy of a DataFrame or Series through chained assignment using an inplace method.\n",
            "The behavior will change in pandas 3.0. This inplace method will never work because the intermediate object on which we are setting values always behaves as a copy.\n",
            "\n",
            "For example, when doing 'df[col].method(value, inplace=True)', try using 'df.method({col: value}, inplace=True)' or df[col] = df[col].method(value) instead, to perform the operation inplace on the original object.\n",
            "\n",
            "\n",
            "  ckd_df['cad'].replace(to_replace = {'\\tno':'no'},inplace=True)\n"
          ]
        }
      ],
      "source": [
        "ckd_df['cad'].replace(to_replace = {'\\tno':'no'},inplace=True)"
      ]
    },
    {
      "cell_type": "code",
      "execution_count": null,
      "id": "4c584fc8-0c92-46c1-a364-3ac11c6d06a7",
      "metadata": {
        "id": "4c584fc8-0c92-46c1-a364-3ac11c6d06a7",
        "outputId": "ff7f42ce-15e4-4f72-8c5a-13007021c03d"
      },
      "outputs": [
        {
          "name": "stderr",
          "output_type": "stream",
          "text": [
            "/var/folders/yq/qpl7yv6s50nbrkmm26bmqfyc0000gn/T/ipykernel_31633/4225524439.py:1: FutureWarning: Downcasting behavior in `replace` is deprecated and will be removed in a future version. To retain the old behavior, explicitly call `result.infer_objects(copy=False)`. To opt-in to the future behavior, set `pd.set_option('future.no_silent_downcasting', True)`\n",
            "  ckd_df['cad'] = ckd_df['cad'].replace({'yes': 2, 'no': 1, np.nan: 0}).astype(int)\n"
          ]
        },
        {
          "data": {
            "text/plain": [
              "0      1\n",
              "1      1\n",
              "2      1\n",
              "3      1\n",
              "4      1\n",
              "      ..\n",
              "395    1\n",
              "396    1\n",
              "397    1\n",
              "398    1\n",
              "399    1\n",
              "Name: cad, Length: 400, dtype: int64"
            ]
          },
          "execution_count": 206,
          "metadata": {},
          "output_type": "execute_result"
        }
      ],
      "source": [
        "ckd_df['cad'] = ckd_df['cad'].replace({'yes': 2, 'no': 1, np.nan: 0}).astype(int)\n",
        "ckd_df['cad']"
      ]
    },
    {
      "cell_type": "code",
      "execution_count": null,
      "id": "43b9ea26-0510-4461-b434-9da8cc732bd3",
      "metadata": {
        "id": "43b9ea26-0510-4461-b434-9da8cc732bd3",
        "outputId": "a0cfcaaf-db53-4c30-95e5-1dc5b7badc8c"
      },
      "outputs": [
        {
          "data": {
            "text/plain": [
              "array([1, 2, 0])"
            ]
          },
          "execution_count": 207,
          "metadata": {},
          "output_type": "execute_result"
        }
      ],
      "source": [
        "ckd_df['cad'].unique()"
      ]
    },
    {
      "cell_type": "code",
      "execution_count": null,
      "id": "67f2e198-8cf8-42bd-9b93-16be5fe464b7",
      "metadata": {
        "id": "67f2e198-8cf8-42bd-9b93-16be5fe464b7",
        "outputId": "a5c6be4d-7a88-49df-c208-78122f88f52a"
      },
      "outputs": [
        {
          "data": {
            "text/plain": [
              "array(['good', 'poor', nan], dtype=object)"
            ]
          },
          "execution_count": 208,
          "metadata": {},
          "output_type": "execute_result"
        }
      ],
      "source": [
        "ckd_df['appet'].unique()"
      ]
    },
    {
      "cell_type": "code",
      "execution_count": null,
      "id": "d5c80161-079f-40ba-a573-f58c7961a9f1",
      "metadata": {
        "id": "d5c80161-079f-40ba-a573-f58c7961a9f1",
        "outputId": "a872bdb5-b6be-4b95-f7b2-eb04d8e97a2f"
      },
      "outputs": [
        {
          "name": "stderr",
          "output_type": "stream",
          "text": [
            "/var/folders/yq/qpl7yv6s50nbrkmm26bmqfyc0000gn/T/ipykernel_31633/2076029673.py:1: FutureWarning: Downcasting behavior in `replace` is deprecated and will be removed in a future version. To retain the old behavior, explicitly call `result.infer_objects(copy=False)`. To opt-in to the future behavior, set `pd.set_option('future.no_silent_downcasting', True)`\n",
            "  ckd_df['appet'] = ckd_df['appet'].replace({'good': 1, 'poor': 2, np.nan: 0}).astype(int)\n"
          ]
        },
        {
          "data": {
            "text/plain": [
              "0      1\n",
              "1      1\n",
              "2      2\n",
              "3      2\n",
              "4      1\n",
              "      ..\n",
              "395    1\n",
              "396    1\n",
              "397    1\n",
              "398    1\n",
              "399    1\n",
              "Name: appet, Length: 400, dtype: int64"
            ]
          },
          "execution_count": 209,
          "metadata": {},
          "output_type": "execute_result"
        }
      ],
      "source": [
        "ckd_df['appet'] = ckd_df['appet'].replace({'good': 1, 'poor': 2, np.nan: 0}).astype(int)\n",
        "ckd_df['appet']"
      ]
    },
    {
      "cell_type": "code",
      "execution_count": null,
      "id": "b7972c16-e751-4363-8312-940a23454494",
      "metadata": {
        "id": "b7972c16-e751-4363-8312-940a23454494",
        "outputId": "ba100b9f-e99a-4989-90d6-310603896140"
      },
      "outputs": [
        {
          "data": {
            "text/plain": [
              "array([1, 2, 0])"
            ]
          },
          "execution_count": 210,
          "metadata": {},
          "output_type": "execute_result"
        }
      ],
      "source": [
        "ckd_df['appet'].unique()"
      ]
    },
    {
      "cell_type": "code",
      "execution_count": null,
      "id": "f112a6de-d595-46b0-9f48-d23cf5381850",
      "metadata": {
        "id": "f112a6de-d595-46b0-9f48-d23cf5381850",
        "outputId": "a69d39fd-8cc5-418d-e8e6-b769482825c4"
      },
      "outputs": [
        {
          "data": {
            "text/plain": [
              "array(['no', 'yes', nan], dtype=object)"
            ]
          },
          "execution_count": 211,
          "metadata": {},
          "output_type": "execute_result"
        }
      ],
      "source": [
        "ckd_df['pe'].unique()"
      ]
    },
    {
      "cell_type": "code",
      "execution_count": null,
      "id": "7885ea43-1d2a-4e64-aead-acecf49c9403",
      "metadata": {
        "id": "7885ea43-1d2a-4e64-aead-acecf49c9403",
        "outputId": "97b6e00e-226b-4758-ce5e-cd23e0db46f9"
      },
      "outputs": [
        {
          "name": "stderr",
          "output_type": "stream",
          "text": [
            "/var/folders/yq/qpl7yv6s50nbrkmm26bmqfyc0000gn/T/ipykernel_31633/1320234643.py:1: FutureWarning: Downcasting behavior in `replace` is deprecated and will be removed in a future version. To retain the old behavior, explicitly call `result.infer_objects(copy=False)`. To opt-in to the future behavior, set `pd.set_option('future.no_silent_downcasting', True)`\n",
            "  ckd_df['pe'] = ckd_df['pe'].replace({'yes': 2, 'no': 1, np.nan: 0}).astype(int)\n"
          ]
        },
        {
          "data": {
            "text/plain": [
              "0      1\n",
              "1      1\n",
              "2      1\n",
              "3      2\n",
              "4      1\n",
              "      ..\n",
              "395    1\n",
              "396    1\n",
              "397    1\n",
              "398    1\n",
              "399    1\n",
              "Name: pe, Length: 400, dtype: int64"
            ]
          },
          "execution_count": 212,
          "metadata": {},
          "output_type": "execute_result"
        }
      ],
      "source": [
        "ckd_df['pe'] = ckd_df['pe'].replace({'yes': 2, 'no': 1, np.nan: 0}).astype(int)\n",
        "ckd_df['pe']"
      ]
    },
    {
      "cell_type": "code",
      "execution_count": null,
      "id": "6a99846c-43ef-4306-a68d-222c4ce04bc2",
      "metadata": {
        "id": "6a99846c-43ef-4306-a68d-222c4ce04bc2",
        "outputId": "f3b049a1-2333-48dc-d3d2-9a7b6108602c"
      },
      "outputs": [
        {
          "data": {
            "text/plain": [
              "array([1, 2, 0])"
            ]
          },
          "execution_count": 213,
          "metadata": {},
          "output_type": "execute_result"
        }
      ],
      "source": [
        "ckd_df['pe'].unique()"
      ]
    },
    {
      "cell_type": "code",
      "execution_count": null,
      "id": "652fb6b5-9b54-49b9-8396-22e2a4b25abe",
      "metadata": {
        "id": "652fb6b5-9b54-49b9-8396-22e2a4b25abe",
        "outputId": "bfdcac50-ac5c-413b-9923-8147a5c5ce0c"
      },
      "outputs": [
        {
          "data": {
            "text/plain": [
              "array(['no', 'yes', nan], dtype=object)"
            ]
          },
          "execution_count": 214,
          "metadata": {},
          "output_type": "execute_result"
        }
      ],
      "source": [
        "ckd_df['ane'].unique()"
      ]
    },
    {
      "cell_type": "code",
      "execution_count": null,
      "id": "c18b83aa-92fa-4e26-b614-88e844e375e0",
      "metadata": {
        "id": "c18b83aa-92fa-4e26-b614-88e844e375e0",
        "outputId": "8b84476d-c1e2-4f06-c892-27909bba6d96"
      },
      "outputs": [
        {
          "name": "stderr",
          "output_type": "stream",
          "text": [
            "/var/folders/yq/qpl7yv6s50nbrkmm26bmqfyc0000gn/T/ipykernel_31633/876388022.py:1: FutureWarning: Downcasting behavior in `replace` is deprecated and will be removed in a future version. To retain the old behavior, explicitly call `result.infer_objects(copy=False)`. To opt-in to the future behavior, set `pd.set_option('future.no_silent_downcasting', True)`\n",
            "  ckd_df['ane'] = ckd_df['ane'].replace({'yes': 2, 'no': 1, np.nan: 0}).astype(int)\n"
          ]
        },
        {
          "data": {
            "text/plain": [
              "0      1\n",
              "1      1\n",
              "2      2\n",
              "3      2\n",
              "4      1\n",
              "      ..\n",
              "395    1\n",
              "396    1\n",
              "397    1\n",
              "398    1\n",
              "399    1\n",
              "Name: ane, Length: 400, dtype: int64"
            ]
          },
          "execution_count": 215,
          "metadata": {},
          "output_type": "execute_result"
        }
      ],
      "source": [
        "ckd_df['ane'] = ckd_df['ane'].replace({'yes': 2, 'no': 1, np.nan: 0}).astype(int)\n",
        "ckd_df['ane']"
      ]
    },
    {
      "cell_type": "code",
      "execution_count": null,
      "id": "bb8614fe-d236-445d-8051-236e8f5bb5b2",
      "metadata": {
        "id": "bb8614fe-d236-445d-8051-236e8f5bb5b2",
        "outputId": "ded37f6e-ef8c-4aa2-bb49-17563199d0d2"
      },
      "outputs": [
        {
          "data": {
            "text/plain": [
              "array([1, 2, 0])"
            ]
          },
          "execution_count": 216,
          "metadata": {},
          "output_type": "execute_result"
        }
      ],
      "source": [
        "ckd_df['ane'].unique()"
      ]
    },
    {
      "cell_type": "code",
      "execution_count": null,
      "id": "ab52620f-d090-42a1-bff5-10ca4fec0ba4",
      "metadata": {
        "id": "ab52620f-d090-42a1-bff5-10ca4fec0ba4",
        "outputId": "3dbad595-3efc-4144-ab9c-65d7a7f1846b"
      },
      "outputs": [
        {
          "data": {
            "text/plain": [
              "array(['ckd', 'ckd\\t', 'notckd'], dtype=object)"
            ]
          },
          "execution_count": 217,
          "metadata": {},
          "output_type": "execute_result"
        }
      ],
      "source": [
        "ckd_df['classification'].unique()"
      ]
    },
    {
      "cell_type": "code",
      "execution_count": null,
      "id": "34aa7c4d-aa66-4260-bd4b-3ea4796872c3",
      "metadata": {
        "id": "34aa7c4d-aa66-4260-bd4b-3ea4796872c3"
      },
      "outputs": [],
      "source": [
        "#The str.strip() method in Pandas is used to remove leading and trailing whitespace characters from strings in a Series. This includes spaces, tabs, and newline characters.\n",
        "ckd_df['classification'] = ckd_df['classification'].str.strip()"
      ]
    },
    {
      "cell_type": "code",
      "execution_count": null,
      "id": "2f8d1afc-a3bf-41c3-85f2-23eb0ab9eea1",
      "metadata": {
        "id": "2f8d1afc-a3bf-41c3-85f2-23eb0ab9eea1",
        "outputId": "dbb11cea-bf88-4468-9e90-029681fb4edb"
      },
      "outputs": [
        {
          "data": {
            "text/plain": [
              "0         ckd\n",
              "1         ckd\n",
              "2         ckd\n",
              "3         ckd\n",
              "4         ckd\n",
              "        ...  \n",
              "395    notckd\n",
              "396    notckd\n",
              "397    notckd\n",
              "398    notckd\n",
              "399    notckd\n",
              "Name: classification, Length: 400, dtype: object"
            ]
          },
          "execution_count": 219,
          "metadata": {},
          "output_type": "execute_result"
        }
      ],
      "source": [
        "ckd_df['classification'] = ckd_df['classification'].replace(to_replace = {'ckd\\t': 'ckd'})#, inplace=False)\n",
        "ckd_df['classification']"
      ]
    },
    {
      "cell_type": "code",
      "execution_count": null,
      "id": "a109f7bb-a3c6-491f-89d9-e39e700ab45f",
      "metadata": {
        "id": "a109f7bb-a3c6-491f-89d9-e39e700ab45f",
        "outputId": "8a11ee7f-2004-4dbf-fe8b-ab63319ce0e4"
      },
      "outputs": [
        {
          "name": "stderr",
          "output_type": "stream",
          "text": [
            "/var/folders/yq/qpl7yv6s50nbrkmm26bmqfyc0000gn/T/ipykernel_31633/2181715723.py:1: FutureWarning: Downcasting behavior in `replace` is deprecated and will be removed in a future version. To retain the old behavior, explicitly call `result.infer_objects(copy=False)`. To opt-in to the future behavior, set `pd.set_option('future.no_silent_downcasting', True)`\n",
            "  ckd_df['classification'] = ckd_df['classification'].replace({'ckd':1, 'notckd':0})\n"
          ]
        }
      ],
      "source": [
        "ckd_df['classification'] = ckd_df['classification'].replace({'ckd':1, 'notckd':0})"
      ]
    },
    {
      "cell_type": "code",
      "execution_count": null,
      "id": "f5f3d9fb-317c-4df5-b55a-a97d7aa5c2f4",
      "metadata": {
        "id": "f5f3d9fb-317c-4df5-b55a-a97d7aa5c2f4",
        "outputId": "a52561e7-9319-459c-ea8a-e6302f73e2e2"
      },
      "outputs": [
        {
          "data": {
            "text/plain": [
              "array([1, 0])"
            ]
          },
          "execution_count": 221,
          "metadata": {},
          "output_type": "execute_result"
        }
      ],
      "source": [
        "ckd_df['classification'].unique()"
      ]
    },
    {
      "cell_type": "code",
      "execution_count": null,
      "id": "de5ef534-e8ae-47c7-b7d9-f7a0b1d06929",
      "metadata": {
        "id": "de5ef534-e8ae-47c7-b7d9-f7a0b1d06929",
        "outputId": "7e85fe12-3bc8-464b-a610-5e1b44711491"
      },
      "outputs": [
        {
          "data": {
            "text/plain": [
              "0"
            ]
          },
          "execution_count": 222,
          "metadata": {},
          "output_type": "execute_result"
        }
      ],
      "source": [
        "ckd_df['classification'].isna().sum()"
      ]
    },
    {
      "cell_type": "code",
      "execution_count": null,
      "id": "7d5dbde5-e905-4bb3-9fa8-1a206830d5cb",
      "metadata": {
        "id": "7d5dbde5-e905-4bb3-9fa8-1a206830d5cb"
      },
      "outputs": [],
      "source": [
        "#dropping the id column\n",
        "ckd_df = ckd_df.drop(columns=['id'])"
      ]
    },
    {
      "cell_type": "code",
      "execution_count": null,
      "id": "b51d63c7-58cb-4c4c-aa6b-b45c028f78f3",
      "metadata": {
        "id": "b51d63c7-58cb-4c4c-aa6b-b45c028f78f3"
      },
      "outputs": [],
      "source": [
        "#15------renaming the cols---------------\n",
        "ckd_df.rename(columns={'age':'age','bp':'blood_pressure','sg':'specific_gravity','al':'albumin','su':'sugar','rbc':'red_blood_cells',\n",
        "                   'pc':'pus_cell','pcc':'pus_cell_clumps','ba':'bacteria','bgr':'blood_glucose_random','bu':'blood_urea','sc':'serum_creatinine',\n",
        "                   'sod':'sodium','pot':'potassium','hemo':'haemoglobin','pcv':'packed_cell_volume','wc':'white_blood_cell_count',\n",
        "                   'rc':'red_blood_cell_count','htn':'hypertension','dm':'diabetes_mellitus','cad':'coronary_artery_disease',\n",
        "                   'appet':'appetite','pe':'peda_edema','ane':'anemia','classification':'class'\n",
        "                  }, inplace=True)"
      ]
    },
    {
      "cell_type": "code",
      "execution_count": null,
      "id": "4a7d2647-a934-42ff-89be-fbf7bdcf7b64",
      "metadata": {
        "id": "4a7d2647-a934-42ff-89be-fbf7bdcf7b64",
        "outputId": "21e90cda-8f8a-432c-e635-ea3e360f3791"
      },
      "outputs": [
        {
          "name": "stdout",
          "output_type": "stream",
          "text": [
            "<class 'pandas.core.frame.DataFrame'>\n",
            "RangeIndex: 400 entries, 0 to 399\n",
            "Data columns (total 25 columns):\n",
            " #   Column                   Non-Null Count  Dtype  \n",
            "---  ------                   --------------  -----  \n",
            " 0   age                      400 non-null    int64  \n",
            " 1   blood_pressure           400 non-null    int64  \n",
            " 2   specific_gravity         400 non-null    float64\n",
            " 3   albumin                  400 non-null    float64\n",
            " 4   sugar                    400 non-null    float64\n",
            " 5   red_blood_cells          400 non-null    int64  \n",
            " 6   pus_cell                 400 non-null    int64  \n",
            " 7   pus_cell_clumps          400 non-null    int64  \n",
            " 8   bacteria                 400 non-null    int64  \n",
            " 9   blood_glucose_random     400 non-null    float64\n",
            " 10  blood_urea               400 non-null    float64\n",
            " 11  serum_creatinine         400 non-null    float64\n",
            " 12  sodium                   400 non-null    float64\n",
            " 13  potassium                400 non-null    float64\n",
            " 14  haemoglobin              400 non-null    float64\n",
            " 15  packed_cell_volume       400 non-null    int64  \n",
            " 16  white_blood_cell_count   400 non-null    int64  \n",
            " 17  red_blood_cell_count     400 non-null    float64\n",
            " 18  hypertension             400 non-null    int64  \n",
            " 19  diabetes_mellitus        400 non-null    int64  \n",
            " 20  coronary_artery_disease  400 non-null    int64  \n",
            " 21  appetite                 400 non-null    int64  \n",
            " 22  peda_edema               400 non-null    int64  \n",
            " 23  anemia                   400 non-null    int64  \n",
            " 24  class                    400 non-null    int64  \n",
            "dtypes: float64(10), int64(15)\n",
            "memory usage: 78.3 KB\n"
          ]
        }
      ],
      "source": [
        "ckd_df.info()"
      ]
    },
    {
      "cell_type": "code",
      "execution_count": null,
      "id": "186acb9e-d3a1-47a1-8abb-8f349f4a36d4",
      "metadata": {
        "id": "186acb9e-d3a1-47a1-8abb-8f349f4a36d4",
        "outputId": "afd90b53-1717-4f87-8bc5-237412f0fd30"
      },
      "outputs": [
        {
          "data": {
            "text/plain": [
              "Index(['age', 'blood_pressure', 'specific_gravity', 'albumin', 'sugar',\n",
              "       'red_blood_cells', 'pus_cell', 'pus_cell_clumps', 'bacteria',\n",
              "       'blood_glucose_random', 'blood_urea', 'serum_creatinine', 'sodium',\n",
              "       'potassium', 'haemoglobin', 'packed_cell_volume',\n",
              "       'white_blood_cell_count', 'red_blood_cell_count', 'hypertension',\n",
              "       'diabetes_mellitus', 'coronary_artery_disease', 'appetite',\n",
              "       'peda_edema', 'anemia', 'class'],\n",
              "      dtype='object')"
            ]
          },
          "execution_count": 226,
          "metadata": {},
          "output_type": "execute_result"
        }
      ],
      "source": [
        "ckd_df.columns"
      ]
    },
    {
      "cell_type": "code",
      "execution_count": null,
      "id": "90160b6f-be00-4009-b6af-00648ef10037",
      "metadata": {
        "id": "90160b6f-be00-4009-b6af-00648ef10037",
        "outputId": "9c7be06f-8399-4de1-b116-80345591e5c5"
      },
      "outputs": [
        {
          "data": {
            "text/plain": [
              "class\n",
              "1    250\n",
              "0    150\n",
              "Name: count, dtype: int64"
            ]
          },
          "execution_count": 227,
          "metadata": {},
          "output_type": "execute_result"
        }
      ],
      "source": [
        "ckd_df['class'].value_counts()"
      ]
    },
    {
      "cell_type": "code",
      "execution_count": null,
      "id": "fbc7ebed-9dea-4e33-be9b-a699e8b59ec2",
      "metadata": {
        "id": "fbc7ebed-9dea-4e33-be9b-a699e8b59ec2",
        "outputId": "0525a0db-de1a-428f-af04-c313d35efbdb"
      },
      "outputs": [
        {
          "data": {
            "image/png": "[encoded data removed]",
            "text/plain": [
              "<Figure size 400x400 with 1 Axes>"
            ]
          },
          "metadata": {},
          "output_type": "display_data"
        }
      ],
      "source": [
        "plt.figure(figsize = (4,4))\n",
        "sns.countplot(x = 'class' , data = ckd_df)\n",
        "plt.show()"
      ]
    },
    {
      "cell_type": "code",
      "source": [],
      "metadata": {
        "id": "KzHzlvmwU2b4"
      },
      "id": "KzHzlvmwU2b4",
      "execution_count": null,
      "outputs": []
    }
  ],
  "metadata": {
    "colab": {
      "provenance": [],
      "toc_visible": true
    },
    "kernelspec": {
      "display_name": "Python 3 (ipykernel)",
      "language": "python",
      "name": "python3"
    },
    "language_info": {
      "codemirror_mode": {
        "name": "ipython",
        "version": 3
      },
      "file_extension": ".py",
      "mimetype": "text/x-python",
      "name": "python",
      "nbconvert_exporter": "python",
      "pygments_lexer": "ipython3",
      "version": "3.11.7"
    }
  },
  "nbformat": 4,
  "nbformat_minor": 5
}