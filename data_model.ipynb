{
 "cells": [
  {
   "cell_type": "code",
   "execution_count": 1,
   "metadata": {},
   "outputs": [],
   "source": [
    "# Import the modules\n",
    "import numpy as np\n",
    "import pandas as pd\n",
    "from pathlib import Path\n",
    "from sklearn.metrics import confusion_matrix, classification_report"
   ]
  },
  {
   "cell_type": "code",
   "execution_count": 2,
   "metadata": {},
   "outputs": [
    {
     "name": "stdout",
     "output_type": "stream",
     "text": [
      "   Unnamed: 0  age  blood_pressure  specific_gravity  albumin  sugar  \\\n",
      "0           0   48              80             1.020      1.0    0.0   \n",
      "1           1    7              50             1.020      4.0    0.0   \n",
      "2           2   62              80             1.010      2.0    3.0   \n",
      "3           3   48              70             1.005      4.0    0.0   \n",
      "4           4   51              80             1.010      2.0    0.0   \n",
      "\n",
      "   red_blood_cells  pus_cell  pus_cell_clumps  bacteria  ...  \\\n",
      "0                0         1                1         1  ...   \n",
      "1                0         1                1         1  ...   \n",
      "2                1         1                1         1  ...   \n",
      "3                1         2                2         1  ...   \n",
      "4                1         1                1         1  ...   \n",
      "\n",
      "   packed_cell_volume  white_blood_cell_count  red_blood_cell_count  \\\n",
      "0                  44                    7800              5.200000   \n",
      "1                  38                    6000              4.707435   \n",
      "2                  31                    7500              4.707435   \n",
      "3                  32                    6700              3.900000   \n",
      "4                  35                    7300              4.600000   \n",
      "\n",
      "   hypertension  diabetes_mellitus  coronary_artery_disease  appetite  \\\n",
      "0             2                  2                        1         1   \n",
      "1             1                  1                        1         1   \n",
      "2             1                  2                        1         2   \n",
      "3             2                  1                        1         2   \n",
      "4             1                  1                        1         1   \n",
      "\n",
      "   peda_edema  anemia  class  \n",
      "0           1       1      1  \n",
      "1           1       1      1  \n",
      "2           1       2      1  \n",
      "3           2       2      1  \n",
      "4           1       1      1  \n",
      "\n",
      "[5 rows x 26 columns]\n",
      "<class 'pandas.core.frame.DataFrame'>\n",
      "RangeIndex: 400 entries, 0 to 399\n",
      "Data columns (total 26 columns):\n",
      " #   Column                   Non-Null Count  Dtype  \n",
      "---  ------                   --------------  -----  \n",
      " 0   Unnamed: 0               400 non-null    int64  \n",
      " 1   age                      400 non-null    int64  \n",
      " 2   blood_pressure           400 non-null    int64  \n",
      " 3   specific_gravity         400 non-null    float64\n",
      " 4   albumin                  400 non-null    float64\n",
      " 5   sugar                    400 non-null    float64\n",
      " 6   red_blood_cells          400 non-null    int64  \n",
      " 7   pus_cell                 400 non-null    int64  \n",
      " 8   pus_cell_clumps          400 non-null    int64  \n",
      " 9   bacteria                 400 non-null    int64  \n",
      " 10  blood_glucose_random     400 non-null    float64\n",
      " 11  blood_urea               400 non-null    float64\n",
      " 12  serum_creatinine         400 non-null    float64\n",
      " 13  sodium                   400 non-null    float64\n",
      " 14  potassium                400 non-null    float64\n",
      " 15  haemoglobin              400 non-null    float64\n",
      " 16  packed_cell_volume       400 non-null    int64  \n",
      " 17  white_blood_cell_count   400 non-null    int64  \n",
      " 18  red_blood_cell_count     400 non-null    float64\n",
      " 19  hypertension             400 non-null    int64  \n",
      " 20  diabetes_mellitus        400 non-null    int64  \n",
      " 21  coronary_artery_disease  400 non-null    int64  \n",
      " 22  appetite                 400 non-null    int64  \n",
      " 23  peda_edema               400 non-null    int64  \n",
      " 24  anemia                   400 non-null    int64  \n",
      " 25  class                    400 non-null    int64  \n",
      "dtypes: float64(10), int64(16)\n",
      "memory usage: 81.4 KB\n",
      "None\n"
     ]
    }
   ],
   "source": [
    "# Read the CSV file from the Resources folder into a Pandas DataFrame\n",
    "clean_data_path = Path(\"archive\\cleaned_ckd.csv\")\n",
    "clean_data = pd.read_csv(clean_data_path)\n",
    "# Review the DataFrame\n",
    "print(clean_data.head())\n",
    "print(clean_data.info()) "
   ]
  },
  {
   "cell_type": "code",
   "execution_count": 3,
   "metadata": {},
   "outputs": [],
   "source": [
    "#HELP FROM GROUP, DETERMINE CORRECT VARIABLES\n",
    "\n",
    "# Separate the data into labels and features\n",
    "\n",
    "# Separate the y variable, the labels\n",
    "y = clean_data['age']\n",
    "\n",
    "# Separate the X variable, the features\n",
    "x = clean_data.drop(columns=['age'])"
   ]
  },
  {
   "cell_type": "code",
   "execution_count": 4,
   "metadata": {},
   "outputs": [
    {
     "name": "stdout",
     "output_type": "stream",
     "text": [
      "0    48\n",
      "1     7\n",
      "2    62\n",
      "3    48\n",
      "4    51\n",
      "Name: age, dtype: int64\n",
      "age\n",
      "60    19\n",
      "65    17\n",
      "51    14\n",
      "48    12\n",
      "55    12\n",
      "      ..\n",
      "83     1\n",
      "27     1\n",
      "14     1\n",
      "81     1\n",
      "79     1\n",
      "Name: count, Length: 76, dtype: int64\n"
     ]
    }
   ],
   "source": [
    "# Review the y variable Series\n",
    "print(y.head())\n",
    "print(y.value_counts())"
   ]
  },
  {
   "cell_type": "code",
   "execution_count": 5,
   "metadata": {},
   "outputs": [
    {
     "name": "stdout",
     "output_type": "stream",
     "text": [
      "   Unnamed: 0  blood_pressure  specific_gravity  albumin  sugar  \\\n",
      "0           0              80             1.020      1.0    0.0   \n",
      "1           1              50             1.020      4.0    0.0   \n",
      "2           2              80             1.010      2.0    3.0   \n",
      "3           3              70             1.005      4.0    0.0   \n",
      "4           4              80             1.010      2.0    0.0   \n",
      "\n",
      "   red_blood_cells  pus_cell  pus_cell_clumps  bacteria  blood_glucose_random  \\\n",
      "0                0         1                1         1            121.000000   \n",
      "1                0         1                1         1            148.036517   \n",
      "2                1         1                1         1            423.000000   \n",
      "3                1         2                2         1            117.000000   \n",
      "4                1         1                1         1            106.000000   \n",
      "\n",
      "   ...  packed_cell_volume  white_blood_cell_count  red_blood_cell_count  \\\n",
      "0  ...                  44                    7800              5.200000   \n",
      "1  ...                  38                    6000              4.707435   \n",
      "2  ...                  31                    7500              4.707435   \n",
      "3  ...                  32                    6700              3.900000   \n",
      "4  ...                  35                    7300              4.600000   \n",
      "\n",
      "   hypertension  diabetes_mellitus  coronary_artery_disease  appetite  \\\n",
      "0             2                  2                        1         1   \n",
      "1             1                  1                        1         1   \n",
      "2             1                  2                        1         2   \n",
      "3             2                  1                        1         2   \n",
      "4             1                  1                        1         1   \n",
      "\n",
      "   peda_edema  anemia  class  \n",
      "0           1       1      1  \n",
      "1           1       1      1  \n",
      "2           1       2      1  \n",
      "3           2       2      1  \n",
      "4           1       1      1  \n",
      "\n",
      "[5 rows x 25 columns]\n",
      "Unnamed: 0  blood_pressure  specific_gravity  albumin  sugar  red_blood_cells  pus_cell  pus_cell_clumps  bacteria  blood_glucose_random  blood_urea  serum_creatinine  sodium      potassium  haemoglobin  packed_cell_volume  white_blood_cell_count  red_blood_cell_count  hypertension  diabetes_mellitus  coronary_artery_disease  appetite  peda_edema  anemia  class\n",
      "0           80              1.020             1.0      0.0    0                1         1                1         121.0                 36.0        1.2               137.528754  4.627244   15.400000    44                  7800                    5.200000              2             2                  1                        1         1           1       1        1\n",
      "263         80              1.020             0.0      0.0    1                1         1                1         117.0                 46.0        1.2               137.000000  5.000000   16.200000    45                  8600                    5.200000              1             1                  1                        1         1           1       0        1\n",
      "273         80              1.020             0.0      0.0    1                1         1                1         95.0                  35.0        0.9               140.000000  4.100000   12.526437    38                  8406                    4.707435              1             1                  1                        1         1           1       0        1\n",
      "272         80              1.025             0.0      0.0    1                1         1                1         139.0                 15.0        1.2               135.000000  5.000000   14.800000    42                  5600                    5.500000              1             1                  1                        1         1           1       0        1\n",
      "271         80              1.025             0.0      0.0    1                1         1                1         96.0                  25.0        0.5               144.000000  4.800000   13.800000    42                  9000                    4.500000              1             1                  1                        1         1           1       0        1\n",
      "                                                                                                                                                                                                                                                                                                                                                                              ..\n",
      "130         90              1.010             2.0      0.0    1                2         2                2         128.0                 208.0       9.2               134.000000  4.800000   8.200000     22                  16300                   2.700000              1             1                  1                        2         2           2       1        1\n",
      "129         70              1.025             1.0      0.0    0                1         1                1         158.0                 49.0        1.4               135.000000  4.700000   11.100000    38                  8406                    4.707435              2             1                  1                        2         2           1       1        1\n",
      "128         90              1.015             4.0      3.0    1                2         1                1         224.0                 166.0       5.6               133.000000  47.000000  8.100000     23                  5000                    2.900000              2             2                  1                        1         1           2       1        1\n",
      "127         60              1.015             4.0      0.0    1                1         1                1         118.0                 125.0       5.3               136.000000  4.900000   11.400000    35                  15200                   4.300000              2             2                  1                        2         2           1       1        1\n",
      "399         80              1.025             0.0      0.0    1                1         1                1         131.0                 18.0        1.1               141.000000  3.500000   15.800000    53                  6800                    6.100000              1             1                  1                        1         1           1       0        1\n",
      "Name: count, Length: 400, dtype: int64\n"
     ]
    }
   ],
   "source": [
    "# Review the X variable DataFrame\n",
    "print(x.head())\n",
    "print(x.value_counts())"
   ]
  },
  {
   "cell_type": "code",
   "execution_count": 6,
   "metadata": {},
   "outputs": [],
   "source": [
    "# Import the train_test_learn module\n",
    "from sklearn.model_selection import train_test_split\n",
    "\n",
    "# Split the data using train_test_split\n",
    "# Assign a random_state of 1 to the function\n",
    "x_train, x_test, y_train, y_test = train_test_split(x, y, random_state=1, test_size=0.2)"
   ]
  },
  {
   "cell_type": "code",
   "execution_count": 7,
   "metadata": {},
   "outputs": [
    {
     "name": "stderr",
     "output_type": "stream",
     "text": [
      "c:\\Users\\User\\anaconda3\\Lib\\site-packages\\sklearn\\linear_model\\_logistic.py:458: ConvergenceWarning: lbfgs failed to converge (status=1):\n",
      "STOP: TOTAL NO. of ITERATIONS REACHED LIMIT.\n",
      "\n",
      "Increase the number of iterations (max_iter) or scale the data as shown in:\n",
      "    https://scikit-learn.org/stable/modules/preprocessing.html\n",
      "Please also refer to the documentation for alternative solver options:\n",
      "    https://scikit-learn.org/stable/modules/linear_model.html#logistic-regression\n",
      "  n_iter_i = _check_optimize_result(\n"
     ]
    },
    {
     "data": {
      "text/html": [
       "<style>#sk-container-id-1 {color: black;background-color: white;}#sk-container-id-1 pre{padding: 0;}#sk-container-id-1 div.sk-toggleable {background-color: white;}#sk-container-id-1 label.sk-toggleable__label {cursor: pointer;display: block;width: 100%;margin-bottom: 0;padding: 0.3em;box-sizing: border-box;text-align: center;}#sk-container-id-1 label.sk-toggleable__label-arrow:before {content: \"▸\";float: left;margin-right: 0.25em;color: #696969;}#sk-container-id-1 label.sk-toggleable__label-arrow:hover:before {color: black;}#sk-container-id-1 div.sk-estimator:hover label.sk-toggleable__label-arrow:before {color: black;}#sk-container-id-1 div.sk-toggleable__content {max-height: 0;max-width: 0;overflow: hidden;text-align: left;background-color: #f0f8ff;}#sk-container-id-1 div.sk-toggleable__content pre {margin: 0.2em;color: black;border-radius: 0.25em;background-color: #f0f8ff;}#sk-container-id-1 input.sk-toggleable__control:checked~div.sk-toggleable__content {max-height: 200px;max-width: 100%;overflow: auto;}#sk-container-id-1 input.sk-toggleable__control:checked~label.sk-toggleable__label-arrow:before {content: \"▾\";}#sk-container-id-1 div.sk-estimator input.sk-toggleable__control:checked~label.sk-toggleable__label {background-color: #d4ebff;}#sk-container-id-1 div.sk-label input.sk-toggleable__control:checked~label.sk-toggleable__label {background-color: #d4ebff;}#sk-container-id-1 input.sk-hidden--visually {border: 0;clip: rect(1px 1px 1px 1px);clip: rect(1px, 1px, 1px, 1px);height: 1px;margin: -1px;overflow: hidden;padding: 0;position: absolute;width: 1px;}#sk-container-id-1 div.sk-estimator {font-family: monospace;background-color: #f0f8ff;border: 1px dotted black;border-radius: 0.25em;box-sizing: border-box;margin-bottom: 0.5em;}#sk-container-id-1 div.sk-estimator:hover {background-color: #d4ebff;}#sk-container-id-1 div.sk-parallel-item::after {content: \"\";width: 100%;border-bottom: 1px solid gray;flex-grow: 1;}#sk-container-id-1 div.sk-label:hover label.sk-toggleable__label {background-color: #d4ebff;}#sk-container-id-1 div.sk-serial::before {content: \"\";position: absolute;border-left: 1px solid gray;box-sizing: border-box;top: 0;bottom: 0;left: 50%;z-index: 0;}#sk-container-id-1 div.sk-serial {display: flex;flex-direction: column;align-items: center;background-color: white;padding-right: 0.2em;padding-left: 0.2em;position: relative;}#sk-container-id-1 div.sk-item {position: relative;z-index: 1;}#sk-container-id-1 div.sk-parallel {display: flex;align-items: stretch;justify-content: center;background-color: white;position: relative;}#sk-container-id-1 div.sk-item::before, #sk-container-id-1 div.sk-parallel-item::before {content: \"\";position: absolute;border-left: 1px solid gray;box-sizing: border-box;top: 0;bottom: 0;left: 50%;z-index: -1;}#sk-container-id-1 div.sk-parallel-item {display: flex;flex-direction: column;z-index: 1;position: relative;background-color: white;}#sk-container-id-1 div.sk-parallel-item:first-child::after {align-self: flex-end;width: 50%;}#sk-container-id-1 div.sk-parallel-item:last-child::after {align-self: flex-start;width: 50%;}#sk-container-id-1 div.sk-parallel-item:only-child::after {width: 0;}#sk-container-id-1 div.sk-dashed-wrapped {border: 1px dashed gray;margin: 0 0.4em 0.5em 0.4em;box-sizing: border-box;padding-bottom: 0.4em;background-color: white;}#sk-container-id-1 div.sk-label label {font-family: monospace;font-weight: bold;display: inline-block;line-height: 1.2em;}#sk-container-id-1 div.sk-label-container {text-align: center;}#sk-container-id-1 div.sk-container {/* jupyter's `normalize.less` sets `[hidden] { display: none; }` but bootstrap.min.css set `[hidden] { display: none !important; }` so we also need the `!important` here to be able to override the default hidden behavior on the sphinx rendered scikit-learn.org. See: https://github.com/scikit-learn/scikit-learn/issues/21755 */display: inline-block !important;position: relative;}#sk-container-id-1 div.sk-text-repr-fallback {display: none;}</style><div id=\"sk-container-id-1\" class=\"sk-top-container\"><div class=\"sk-text-repr-fallback\"><pre>LogisticRegression(random_state=1)</pre><b>In a Jupyter environment, please rerun this cell to show the HTML representation or trust the notebook. <br />On GitHub, the HTML representation is unable to render, please try loading this page with nbviewer.org.</b></div><div class=\"sk-container\" hidden><div class=\"sk-item\"><div class=\"sk-estimator sk-toggleable\"><input class=\"sk-toggleable__control sk-hidden--visually\" id=\"sk-estimator-id-1\" type=\"checkbox\" checked><label for=\"sk-estimator-id-1\" class=\"sk-toggleable__label sk-toggleable__label-arrow\">LogisticRegression</label><div class=\"sk-toggleable__content\"><pre>LogisticRegression(random_state=1)</pre></div></div></div></div></div>"
      ],
      "text/plain": [
       "LogisticRegression(random_state=1)"
      ]
     },
     "execution_count": 7,
     "metadata": {},
     "output_type": "execute_result"
    }
   ],
   "source": [
    "# Import the LogisticRegression module from SKLearn\n",
    "from sklearn.linear_model import LogisticRegression\n",
    "\n",
    "# Instantiate the Logistic Regression model\n",
    "# Assign a random_state parameter of 1 to the model\n",
    "model = LogisticRegression(random_state=1)\n",
    "\n",
    "# Fit the model using training data\n",
    "model.fit(x_train, y_train)"
   ]
  },
  {
   "cell_type": "code",
   "execution_count": 8,
   "metadata": {},
   "outputs": [],
   "source": [
    "# Make a prediction using the testing data\n",
    "predictions = model.predict(x_test)"
   ]
  },
  {
   "cell_type": "code",
   "execution_count": 9,
   "metadata": {},
   "outputs": [
    {
     "name": "stdout",
     "output_type": "stream",
     "text": [
      "[[0 0 0 ... 0 0 0]\n",
      " [0 0 0 ... 0 0 0]\n",
      " [0 0 0 ... 0 0 0]\n",
      " ...\n",
      " [0 0 0 ... 0 0 0]\n",
      " [0 0 0 ... 0 0 0]\n",
      " [0 0 0 ... 0 0 0]]\n"
     ]
    }
   ],
   "source": [
    "# Generate a confusion matrix for the model\n",
    "conf_matrix = confusion_matrix(y_test, predictions)\n",
    "print(conf_matrix)"
   ]
  },
  {
   "cell_type": "code",
   "execution_count": 10,
   "metadata": {},
   "outputs": [
    {
     "name": "stdout",
     "output_type": "stream",
     "text": [
      "\n",
      "Classification Report:\n",
      "              precision    recall  f1-score   support\n",
      "\n",
      "           8       0.00      0.00      0.00         1\n",
      "          12       0.00      0.00      0.00         1\n",
      "          15       0.00      0.00      0.00         2\n",
      "          17       0.00      0.00      0.00         2\n",
      "          23       0.00      0.00      0.00         1\n",
      "          24       0.00      0.00      0.00         0\n",
      "          25       0.00      0.00      0.00         1\n",
      "          28       0.00      0.00      0.00         2\n",
      "          29       0.00      0.00      0.00         1\n",
      "          30       0.00      0.00      0.00         0\n",
      "          32       0.00      0.00      0.00         1\n",
      "          33       0.00      0.00      0.00         2\n",
      "          34       0.00      0.00      0.00         2\n",
      "          35       0.00      0.00      0.00         1\n",
      "          37       0.00      0.00      0.00         1\n",
      "          39       0.00      0.00      0.00         1\n",
      "          40       0.00      0.00      0.00         1\n",
      "          41       0.00      0.00      0.00         3\n",
      "          42       0.00      0.00      0.00         1\n",
      "          43       0.00      0.00      0.00         1\n",
      "          44       0.00      0.00      0.00         2\n",
      "          45       0.00      0.00      0.00         3\n",
      "          46       0.00      0.00      0.00         1\n",
      "          47       0.00      0.00      0.00         3\n",
      "          48       0.00      0.00      0.00         3\n",
      "          50       0.00      0.00      0.00         3\n",
      "          51       0.00      0.00      0.00         3\n",
      "          52       0.00      0.00      0.00         1\n",
      "          54       0.00      0.00      0.00         1\n",
      "          55       0.00      0.00      0.00         1\n",
      "          56       0.00      0.00      0.00         1\n",
      "          57       0.10      0.50      0.17         2\n",
      "          59       0.00      0.00      0.00         1\n",
      "          60       0.07      0.40      0.12         5\n",
      "          62       0.00      0.00      0.00         2\n",
      "          63       0.00      0.00      0.00         2\n",
      "          64       0.00      0.00      0.00         1\n",
      "          65       0.00      0.00      0.00         3\n",
      "          67       0.00      0.00      0.00         0\n",
      "          68       0.00      0.00      0.00         3\n",
      "          69       0.00      0.00      0.00         1\n",
      "          70       0.00      0.00      0.00         2\n",
      "          71       0.00      0.00      0.00         3\n",
      "          72       0.00      0.00      0.00         2\n",
      "          73       0.00      0.00      0.00         2\n",
      "          74       0.00      0.00      0.00         2\n",
      "          76       0.00      0.00      0.00         0\n",
      "          80       0.00      0.00      0.00         1\n",
      "          83       0.00      0.00      0.00         1\n",
      "\n",
      "    accuracy                           0.04        80\n",
      "   macro avg       0.00      0.02      0.01        80\n",
      "weighted avg       0.01      0.04      0.01        80\n",
      "\n"
     ]
    },
    {
     "name": "stderr",
     "output_type": "stream",
     "text": [
      "c:\\Users\\User\\anaconda3\\Lib\\site-packages\\sklearn\\metrics\\_classification.py:1344: UndefinedMetricWarning: Precision and F-score are ill-defined and being set to 0.0 in labels with no predicted samples. Use `zero_division` parameter to control this behavior.\n",
      "  _warn_prf(average, modifier, msg_start, len(result))\n",
      "c:\\Users\\User\\anaconda3\\Lib\\site-packages\\sklearn\\metrics\\_classification.py:1344: UndefinedMetricWarning: Recall and F-score are ill-defined and being set to 0.0 in labels with no true samples. Use `zero_division` parameter to control this behavior.\n",
      "  _warn_prf(average, modifier, msg_start, len(result))\n",
      "c:\\Users\\User\\anaconda3\\Lib\\site-packages\\sklearn\\metrics\\_classification.py:1344: UndefinedMetricWarning: Precision and F-score are ill-defined and being set to 0.0 in labels with no predicted samples. Use `zero_division` parameter to control this behavior.\n",
      "  _warn_prf(average, modifier, msg_start, len(result))\n",
      "c:\\Users\\User\\anaconda3\\Lib\\site-packages\\sklearn\\metrics\\_classification.py:1344: UndefinedMetricWarning: Recall and F-score are ill-defined and being set to 0.0 in labels with no true samples. Use `zero_division` parameter to control this behavior.\n",
      "  _warn_prf(average, modifier, msg_start, len(result))\n",
      "c:\\Users\\User\\anaconda3\\Lib\\site-packages\\sklearn\\metrics\\_classification.py:1344: UndefinedMetricWarning: Precision and F-score are ill-defined and being set to 0.0 in labels with no predicted samples. Use `zero_division` parameter to control this behavior.\n",
      "  _warn_prf(average, modifier, msg_start, len(result))\n",
      "c:\\Users\\User\\anaconda3\\Lib\\site-packages\\sklearn\\metrics\\_classification.py:1344: UndefinedMetricWarning: Recall and F-score are ill-defined and being set to 0.0 in labels with no true samples. Use `zero_division` parameter to control this behavior.\n",
      "  _warn_prf(average, modifier, msg_start, len(result))\n"
     ]
    }
   ],
   "source": [
    "# Print the classification report for the model\n",
    "class_report = classification_report(y_test, predictions)\n",
    "print(\"\\nClassification Report:\")\n",
    "print(class_report)"
   ]
  },
  {
   "cell_type": "code",
   "execution_count": null,
   "metadata": {},
   "outputs": [],
   "source": []
  }
 ],
 "metadata": {
  "kernelspec": {
   "display_name": "base",
   "language": "python",
   "name": "python3"
  },
  "language_info": {
   "codemirror_mode": {
    "name": "ipython",
    "version": 3
   },
   "file_extension": ".py",
   "mimetype": "text/x-python",
   "name": "python",
   "nbconvert_exporter": "python",
   "pygments_lexer": "ipython3",
   "version": "3.11.7"
  }
 },
 "nbformat": 4,
 "nbformat_minor": 2
}
